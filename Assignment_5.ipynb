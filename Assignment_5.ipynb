{
  "nbformat": 4,
  "nbformat_minor": 0,
  "metadata": {
    "colab": {
      "provenance": [],
      "authorship_tag": "ABX9TyNIGvDycAUsoC7Hr0iedBnc",
      "include_colab_link": true
    },
    "kernelspec": {
      "name": "python3",
      "display_name": "Python 3"
    },
    "language_info": {
      "name": "python"
    }
  },
  "cells": [
    {
      "cell_type": "markdown",
      "metadata": {
        "id": "view-in-github",
        "colab_type": "text"
      },
      "source": [
        "<a href=\"https://colab.research.google.com/github/maddalayasaswini/TechLeadsAssignments/blob/main/Assignment_5.ipynb\" target=\"_parent\"><img src=\"https://colab.research.google.com/assets/colab-badge.svg\" alt=\"Open In Colab\"/></a>"
      ]
    },
    {
      "cell_type": "markdown",
      "source": [
        "# **SETS**"
      ],
      "metadata": {
        "id": "C8l9xWTZD6MA"
      }
    },
    {
      "cell_type": "markdown",
      "source": [
        "Sets are used to store multiple items in a single variable."
      ],
      "metadata": {
        "id": "jpTr0cuWJnf0"
      }
    },
    {
      "cell_type": "code",
      "execution_count": null,
      "metadata": {
        "id": "ajM0a_6P3wA2",
        "colab": {
          "base_uri": "https://localhost:8080/"
        },
        "outputId": "48afb6ba-71b2-40af-ae95-bbde5baee4ae"
      },
      "outputs": [
        {
          "output_type": "stream",
          "name": "stdout",
          "text": [
            "{'SRINIVAS RAO', 'YASASWINI', 'LAXMI'}\n",
            "{'SRINIVAS RAO', 'YASASWINI', 'LAXMI'}\n"
          ]
        }
      ],
      "source": [
        "a = {\"YASASWINI\",\"SRINIVAS RAO\",\"LAXMI\"}\n",
        "print(a)\n",
        "b = set((\"YASASWINI\",\"SRINIVAS RAO\",\"LAXMI\"))  #set() constructor\n",
        "print(b)"
      ]
    },
    {
      "cell_type": "code",
      "source": [
        "a = {\"YASASWINI\",\"SRINIVAS RAO\",\"LAXMI\",True,1,2}  #True and 1 is considered the same value\n",
        "print(a)\n",
        "print(len(a))        #lenght of a set"
      ],
      "metadata": {
        "colab": {
          "base_uri": "https://localhost:8080/"
        },
        "id": "p3D_hwnMFyfc",
        "outputId": "9f129aa1-eb8a-45dc-dc7b-3834b225ac23"
      },
      "execution_count": null,
      "outputs": [
        {
          "output_type": "stream",
          "name": "stdout",
          "text": [
            "{True, 2, 'YASASWINI', 'LAXMI', 'SRINIVAS RAO'}\n",
            "5\n"
          ]
        }
      ]
    },
    {
      "cell_type": "code",
      "source": [
        "a = {\"YASASWINI\",\"SRINIVAS RAO\",\"LAXMI\"}\n",
        "b = {1,2,3,4}\n",
        "c = {True,False}        #set items data types\n",
        "print(a)\n",
        "print(b)\n",
        "print(c)\n",
        "d  = (\"YASASWINI\",20,True)\n",
        "print(d)\n",
        "print(type(a))"
      ],
      "metadata": {
        "colab": {
          "base_uri": "https://localhost:8080/"
        },
        "id": "V6a8aoe_F2v-",
        "outputId": "88e5dcc2-3b57-44c6-a22f-e7fa9378440b"
      },
      "execution_count": null,
      "outputs": [
        {
          "output_type": "stream",
          "name": "stdout",
          "text": [
            "{'SRINIVAS RAO', 'YASASWINI', 'LAXMI'}\n",
            "{1, 2, 3, 4}\n",
            "{False, True}\n",
            "('YASASWINI', 20, True)\n",
            "<class 'set'>\n"
          ]
        }
      ]
    },
    {
      "cell_type": "code",
      "source": [
        "a = {\"YASASWINI\",\"SRINIVAS RAO\",\"LAXMI\"}\n",
        "for x in a:\n",
        "  print(x)      #accessing items"
      ],
      "metadata": {
        "colab": {
          "base_uri": "https://localhost:8080/"
        },
        "id": "I-yVqSmQGCUW",
        "outputId": "148e19d2-ddb1-435f-98d0-e71287e5a60d"
      },
      "execution_count": null,
      "outputs": [
        {
          "output_type": "stream",
          "name": "stdout",
          "text": [
            "SRINIVAS RAO\n",
            "YASASWINI\n",
            "LAXMI\n"
          ]
        }
      ]
    },
    {
      "cell_type": "code",
      "source": [
        "a = {\"YASASWINI\",\"SRINIVAS RAO\",\"LAXMI\"}\n",
        "for x in a:           #looping\n",
        "  print(x)"
      ],
      "metadata": {
        "colab": {
          "base_uri": "https://localhost:8080/"
        },
        "id": "qAU5BeBvGaPa",
        "outputId": "87013058-6e94-4633-8222-d45c1fe2d1f8"
      },
      "execution_count": null,
      "outputs": [
        {
          "output_type": "stream",
          "name": "stdout",
          "text": [
            "SRINIVAS RAO\n",
            "YASASWINI\n",
            "LAXMI\n"
          ]
        }
      ]
    },
    {
      "cell_type": "markdown",
      "source": [
        "Methods\n"
      ],
      "metadata": {
        "id": "53IOmzaEGRJd"
      }
    },
    {
      "cell_type": "code",
      "source": [
        "a = {\"YASASWINI\",\"SRINIVAS RAO\",\"LAXMI\"}\n",
        "b = {True,False}\n",
        "a.add(\"DHANUSH\")        #add item\n",
        "print(a)\n",
        "a.update(b)             #update the sets\n",
        "print(a)\n",
        "a.remove(\"YASASWINI\")    #remove the item\n",
        "print(a)\n",
        "a.discard(\"LAXMI\")       #remove the item by using the discard() method\n",
        "print(a)"
      ],
      "metadata": {
        "colab": {
          "base_uri": "https://localhost:8080/"
        },
        "id": "Lz7DsXGpGTRh",
        "outputId": "676d0779-9d88-42f5-9eaf-586ff18d8c36"
      },
      "execution_count": null,
      "outputs": [
        {
          "output_type": "stream",
          "name": "stdout",
          "text": [
            "{'SRINIVAS RAO', 'YASASWINI', 'DHANUSH', 'LAXMI'}\n",
            "{False, 'YASASWINI', 'DHANUSH', True, 'LAXMI', 'SRINIVAS RAO'}\n",
            "{False, 'DHANUSH', True, 'LAXMI', 'SRINIVAS RAO'}\n",
            "{False, 'DHANUSH', True, 'SRINIVAS RAO'}\n"
          ]
        }
      ]
    },
    {
      "cell_type": "code",
      "source": [
        "a = {\"YASASWINI\",\"SRINIVAS RAO\",\"LAXMI\"}\n",
        "x = a.copy()         #copies the set\n",
        "print(x)\n",
        "x = a.pop()                 #pop() method is the removed item\n",
        "print(x)\n",
        "b = a.clear()                 #clear() method empties the set\n",
        "print(b)"
      ],
      "metadata": {
        "colab": {
          "base_uri": "https://localhost:8080/"
        },
        "id": "zhLZOzDGGVoW",
        "outputId": "8c3b6916-bb02-4998-ab83-459fddcd1a17"
      },
      "execution_count": null,
      "outputs": [
        {
          "output_type": "stream",
          "name": "stdout",
          "text": [
            "{'SRINIVAS RAO', 'YASASWINI', 'LAXMI'}\n",
            "SRINIVAS RAO\n",
            "None\n"
          ]
        }
      ]
    },
    {
      "cell_type": "code",
      "source": [
        "a = {\"YASASWINI\",\"SRINIVAS RAO\",\"LAXMI\"}\n",
        "b = {\"DHANUSH\",\"LAXMI\",\"THANU\"}\n",
        "c = a.difference(b)\n",
        "print(c)\n",
        "a.difference_update(b)\n",
        "print(a)\n",
        "x = a.issuperset(b)\n",
        "print(x)\n",
        "y = a.issubset(b)\n",
        "print(y)\n",
        "z = a.isdisjoint(b)\n",
        "print(z)"
      ],
      "metadata": {
        "colab": {
          "base_uri": "https://localhost:8080/"
        },
        "id": "vknEWfHcHe4a",
        "outputId": "f980f52a-17ce-478d-f8f0-edf5973dc705"
      },
      "execution_count": null,
      "outputs": [
        {
          "output_type": "stream",
          "name": "stdout",
          "text": [
            "{'SRINIVAS RAO', 'YASASWINI'}\n",
            "{'SRINIVAS RAO', 'YASASWINI'}\n",
            "False\n",
            "False\n",
            "True\n"
          ]
        }
      ]
    },
    {
      "cell_type": "markdown",
      "source": [
        "Joining sets\n"
      ],
      "metadata": {
        "id": "j6_JXjrZGhBk"
      }
    },
    {
      "cell_type": "code",
      "source": [
        "a = {\"YASASWINI\",\"SRINIVAS RAO\",\"LAXMI\"}\n",
        "b = {\"UMA\",\"THANU\",\"CHINNU\"}\n",
        "c = a.union(b)             #union() method returns a new set with all items from both sets\n",
        "print(c)\n",
        "b.update(a)        #update() method inserts the items in set2 into set1\n",
        "print(b)\n",
        "a.intersection_update(b)   #intersection_update() method will keep only the items that are present in both sets\n",
        "print(a)\n",
        "d = a.intersection(b)     #intersection() method will return a new set, that only contains the items that are present in both sets\n",
        "print(d)\n",
        "a.symmetric_difference_update(b)   #symmetric_difference_update() method will keep only the elements that are NOT present in both sets\n",
        "print(b)\n",
        "a = a.symmetric_difference(b)       #symmetric_difference() method will return a new set, that contains only the elements that are NOT present in both sets\n",
        "print(a)"
      ],
      "metadata": {
        "colab": {
          "base_uri": "https://localhost:8080/"
        },
        "id": "e8HF8Q-cGmLu",
        "outputId": "125703be-778f-4034-f089-7ef9591d4c46"
      },
      "execution_count": null,
      "outputs": [
        {
          "output_type": "stream",
          "name": "stdout",
          "text": [
            "{'YASASWINI', 'LAXMI', 'CHINNU', 'UMA', 'SRINIVAS RAO', 'THANU'}\n",
            "{'YASASWINI', 'SRINIVAS RAO', 'UMA', 'LAXMI', 'CHINNU', 'THANU'}\n",
            "{'SRINIVAS RAO', 'YASASWINI', 'LAXMI'}\n",
            "{'SRINIVAS RAO', 'YASASWINI', 'LAXMI'}\n",
            "{'YASASWINI', 'SRINIVAS RAO', 'UMA', 'LAXMI', 'CHINNU', 'THANU'}\n",
            "{'YASASWINI', 'SRINIVAS RAO', 'LAXMI'}\n"
          ]
        }
      ]
    },
    {
      "cell_type": "markdown",
      "source": [
        "# Input function"
      ],
      "metadata": {
        "id": "aNyBx1fzOnlc"
      }
    },
    {
      "cell_type": "code",
      "source": [
        "print(\"Enter your name: \")\n",
        "x=input()\n",
        "print(\"Hello,\"+x)"
      ],
      "metadata": {
        "id": "YVG9uMceOrg9",
        "outputId": "009b0b05-65eb-4131-fef2-cd7da26c7e45",
        "colab": {
          "base_uri": "https://localhost:8080/"
        }
      },
      "execution_count": 1,
      "outputs": [
        {
          "output_type": "stream",
          "name": "stdout",
          "text": [
            "Enter your name: \n",
            "yasaswini\n",
            "Hello,yasaswini\n"
          ]
        }
      ]
    },
    {
      "cell_type": "code",
      "source": [
        "n=input(\"enter a name:\")\n",
        "\n",
        "print(\"hello,\"+x)"
      ],
      "metadata": {
        "id": "eZWjGz_xO5QV",
        "outputId": "c098cf07-20da-4aa4-a76e-39079eb7f7cb",
        "colab": {
          "base_uri": "https://localhost:8080/"
        }
      },
      "execution_count": 2,
      "outputs": [
        {
          "output_type": "stream",
          "name": "stdout",
          "text": [
            "enter a name:yasaswini\n",
            "hello,yasaswini\n"
          ]
        }
      ]
    }
  ]
}