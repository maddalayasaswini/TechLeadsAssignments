{
  "nbformat": 4,
  "nbformat_minor": 0,
  "metadata": {
    "colab": {
      "provenance": [],
      "include_colab_link": true
    },
    "kernelspec": {
      "name": "python3",
      "display_name": "Python 3"
    },
    "language_info": {
      "name": "python"
    }
  },
  "cells": [
    {
      "cell_type": "markdown",
      "metadata": {
        "id": "view-in-github",
        "colab_type": "text"
      },
      "source": [
        "<a href=\"https://colab.research.google.com/github/maddalayasaswini/TechLeadsAssignments/blob/main/Assignment_7.ipynb\" target=\"_parent\"><img src=\"https://colab.research.google.com/assets/colab-badge.svg\" alt=\"Open In Colab\"/></a>"
      ]
    },
    {
      "cell_type": "markdown",
      "source": [
        "# **EXCEPTION HANDLING**\n",
        "\n",
        "\n",
        "\n",
        "   **1.Introdction to Exception Handling**\n",
        "\n",
        "\n",
        "\n",
        "*   Exception handling is used to change the normal flow of the code execution if a specified error condition occurs. This condition is called an exception.\n",
        "\n",
        "*   When an error occurs, or exception as we call it, Python will normally stop and generate an error message.\n",
        "* These exception can be handled using the 'try'satement\n",
        "\n",
        "\n",
        "\n",
        "\n",
        "\n",
        "\n"
      ],
      "metadata": {
        "id": "lTCLpwvrzVcO"
      }
    },
    {
      "cell_type": "code",
      "source": [
        "\n",
        "try:\n",
        "  print(x)\n",
        "except:\n",
        "  print(\"An exception occurred\")"
      ],
      "metadata": {
        "colab": {
          "base_uri": "https://localhost:8080/"
        },
        "id": "bJpRm-cr2nDj",
        "outputId": "795e50d5-36cd-44fc-bb5a-c0078dfd6e60"
      },
      "execution_count": 1,
      "outputs": [
        {
          "output_type": "stream",
          "name": "stdout",
          "text": [
            "An exception occurred\n"
          ]
        }
      ]
    },
    {
      "cell_type": "code",
      "source": [
        "x = 6\n",
        "print(x)"
      ],
      "metadata": {
        "colab": {
          "base_uri": "https://localhost:8080/"
        },
        "id": "0FP-MVZP2ehZ",
        "outputId": "de95dc78-6d6a-41f0-981c-e682a23deb93"
      },
      "execution_count": 2,
      "outputs": [
        {
          "output_type": "stream",
          "name": "stdout",
          "text": [
            "6\n"
          ]
        }
      ]
    },
    {
      "cell_type": "markdown",
      "source": [
        "**2.Types of Errors/exceptions:**\n",
        "\n",
        "\n",
        "*   SYNTAX ERROR:This exception is raised when the interpreter encounters a syntax error in the code, such as a misspelled keyword, a missing colon, or an unbalanced parenthesis.\n",
        "*  TYPE ERROR: This exception is raised when an operation or function is applied to an object of the wrong type, such as adding a string to an integer.\n",
        "\n",
        "*   NAME ERROR: This exception is raised when a variable or function name is not found in the current scope.\n",
        "\n",
        "*   INDEX ERROR: This exception is raised when an index is out of range for a list, tuple, or other sequence types.\n",
        "*   KEY ERROR: This exception is raised when a key is not found in a dictionary.\n",
        "\n",
        "\n",
        "*   VALUE ERROR: This exception is raised\n",
        "when a function or method is called with an invalid argument or input, such as trying to convert a string to an integer when the string does not represent a valid integer.\n",
        "\n",
        "\n",
        "*   IO ERROR: This exception is raised when an I/O operation, such as reading or writing a file, fails due to an input/output error\n",
        "*   List item\n",
        "\n",
        "\n",
        "\n",
        "\n",
        "\n",
        "\n",
        "\n"
      ],
      "metadata": {
        "id": "pneV7y754dtM"
      }
    },
    {
      "cell_type": "code",
      "source": [
        "amount = 10000\n",
        "if(amount > 2999)\n",
        "  print(\"You are eligible to purchase Dsa Self Paced\")"
      ],
      "metadata": {
        "colab": {
          "base_uri": "https://localhost:8080/",
          "height": 140
        },
        "id": "SWdi0caw6XfU",
        "outputId": "fd9a0497-7fbf-488a-eae5-990854d685c1"
      },
      "execution_count": 3,
      "outputs": [
        {
          "output_type": "error",
          "ename": "SyntaxError",
          "evalue": "ignored",
          "traceback": [
            "\u001b[0;36m  File \u001b[0;32m\"<ipython-input-3-60722fbc4cde>\"\u001b[0;36m, line \u001b[0;32m2\u001b[0m\n\u001b[0;31m    if(amount > 2999)\u001b[0m\n\u001b[0m                     ^\u001b[0m\n\u001b[0;31mSyntaxError\u001b[0m\u001b[0;31m:\u001b[0m expected ':'\n"
          ]
        }
      ]
    },
    {
      "cell_type": "code",
      "source": [
        "x = 5\n",
        "y = \"hello\"\n",
        "z = x+y"
      ],
      "metadata": {
        "id": "k2Vmld546y1R"
      },
      "execution_count": null,
      "outputs": []
    },
    {
      "cell_type": "markdown",
      "source": [
        "\n",
        "\n",
        "*   You can define as many exception blocks as you want, e.g. if you want to execute a special block of code for a special kind of error\n",
        "\n",
        "\n"
      ],
      "metadata": {
        "id": "PROXJ0er_asH"
      }
    },
    {
      "cell_type": "code",
      "source": [
        "name = \"John\"\n",
        "print(age)"
      ],
      "metadata": {
        "id": "sBGzCi9K_onZ"
      },
      "execution_count": null,
      "outputs": []
    },
    {
      "cell_type": "markdown",
      "source": [
        "\n",
        "\n",
        "\n",
        "*   ELSE:\n",
        "You can use the else keyword to define a block of code to be executed if no errors were raised"
      ],
      "metadata": {
        "id": "ACiKGjqSAts9"
      }
    },
    {
      "cell_type": "code",
      "source": [
        "try:\n",
        "  print(\"Hello\")\n",
        "except:\n",
        "  print(\"Something went wrong\")\n",
        "else:\n",
        "  print(\"Nothing went wrong\")"
      ],
      "metadata": {
        "id": "RggKGw-1A4SG"
      },
      "execution_count": null,
      "outputs": []
    },
    {
      "cell_type": "markdown",
      "source": [
        "\n",
        "\n",
        "*   FINALLY:The finally block, if specified, will be executed regardless if the try block raises an error or not\n",
        "\n",
        "\n"
      ],
      "metadata": {
        "id": "8Q88_i8ABX_e"
      }
    },
    {
      "cell_type": "code",
      "source": [
        "\n",
        "try:\n",
        "  print(x)\n",
        "except:\n",
        "  print(\"Something went wrong\")\n",
        "finally:\n",
        "  print(\"The 'try except' is finished\")"
      ],
      "metadata": {
        "id": "JAgVaC1nBhCm"
      },
      "execution_count": null,
      "outputs": []
    },
    {
      "cell_type": "markdown",
      "source": [
        "\n",
        "\n",
        "*   RAISE AN EXCEPTION:As a Python developer you can choose to throw an exception if a condition occurs.\n",
        "To throw (or raise) an exception, use the raise keyword\n",
        "\n",
        "\n"
      ],
      "metadata": {
        "id": "h-c5i2oZB_a-"
      }
    },
    {
      "cell_type": "code",
      "source": [
        "\n",
        "x = -1\n",
        "if x < 0:\n",
        "  raise Exception(\"Sorry, no numbers below zero\")"
      ],
      "metadata": {
        "id": "0dogF1eECPyY"
      },
      "execution_count": null,
      "outputs": []
    },
    {
      "cell_type": "markdown",
      "source": [
        "**Nested try-except block**\n",
        "\n",
        "if an exception is raised in the nested try block, the nested except block is used to handle it."
      ],
      "metadata": {
        "id": "QvnhOdkjFn4K"
      }
    },
    {
      "cell_type": "code",
      "source": [
        "try:\n",
        "   print(\"outer try block\")\n",
        "   try:\n",
        "       print(\"Inner try block\")\n",
        "   except ZeroDivisionError:\n",
        "       print(\"Inner except block\")\n",
        "   finally:\n",
        "       print(\"Inner finally block\")\n",
        "except:\n",
        "   print(\"outer except block\")\n",
        "finally:\n",
        "   print(\"outer finally block\")"
      ],
      "metadata": {
        "id": "CksrAJPkqmKF"
      },
      "execution_count": null,
      "outputs": []
    },
    {
      "cell_type": "markdown",
      "source": [
        "**default except**\n",
        "\n",
        "block must come after all the except block that catch specific errors ,otherwise Python will raise an error."
      ],
      "metadata": {
        "id": "NNTsn1rFq8Bg"
      }
    },
    {
      "cell_type": "code",
      "source": [
        "try:\n",
        "  a=5\n",
        "  b='0'\n",
        "  print(a+b)\n",
        "except:\n",
        "  print('Some error occurred.')  #except: before other blocks\n",
        "except TypeError:\n",
        "  print('TypeError Occurred')\n",
        "print (\"Out of try except blocks\")"
      ],
      "metadata": {
        "id": "iIUEnMiSrNXA"
      },
      "execution_count": null,
      "outputs": []
    }
  ]
}