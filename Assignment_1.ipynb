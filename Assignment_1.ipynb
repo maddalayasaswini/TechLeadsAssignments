{
  "nbformat": 4,
  "nbformat_minor": 0,
  "metadata": {
    "colab": {
      "provenance": [],
      "authorship_tag": "ABX9TyP58Eaniqy4Rxf/7TYTZwgP",
      "include_colab_link": true
    },
    "kernelspec": {
      "name": "python3",
      "display_name": "Python 3"
    },
    "language_info": {
      "name": "python"
    }
  },
  "cells": [
    {
      "cell_type": "markdown",
      "metadata": {
        "id": "view-in-github",
        "colab_type": "text"
      },
      "source": [
        "<a href=\"https://colab.research.google.com/github/maddalayasaswini/TechLeadsAssignments/blob/main/Assignment_1.ipynb\" target=\"_parent\"><img src=\"https://colab.research.google.com/assets/colab-badge.svg\" alt=\"Open In Colab\"/></a>"
      ]
    },
    {
      "cell_type": "markdown",
      "source": [
        "# If Statement"
      ],
      "metadata": {
        "id": "mgY4y1FtEBhv"
      }
    },
    {
      "cell_type": "markdown",
      "source": [
        "An \"if statement\" is written by using the if keyword"
      ],
      "metadata": {
        "id": "h9Fx136TEDUy"
      }
    },
    {
      "cell_type": "code",
      "source": [
        "a = 20\n",
        "b = 30\n",
        "if (a < b):\n",
        "  print(\"b is greater than a\")"
      ],
      "metadata": {
        "colab": {
          "base_uri": "https://localhost:8080/"
        },
        "id": "ji8HfuGsnRlj",
        "outputId": "90b0644d-e6c4-46ad-b0be-00a85ba3c1b9"
      },
      "execution_count": null,
      "outputs": [
        {
          "output_type": "stream",
          "name": "stdout",
          "text": [
            "b is greater than a\n"
          ]
        }
      ]
    },
    {
      "cell_type": "code",
      "source": [
        "a = int(input(\"Enter a number : \"))      #input is taken by the user\n",
        "b = int(input(\"Enter a number : \"))\n",
        "if (a > b):\n",
        "  print(\"a is greater than b\")"
      ],
      "metadata": {
        "colab": {
          "base_uri": "https://localhost:8080/"
        },
        "id": "KsYn8304oUAI",
        "outputId": "27b4bc77-ce54-48ce-de6f-3a170ab35e3b"
      },
      "execution_count": null,
      "outputs": [
        {
          "output_type": "stream",
          "name": "stdout",
          "text": [
            "Enter a number : 546\n",
            "Enter a number : 44\n",
            "a is greater than b\n"
          ]
        }
      ]
    },
    {
      "cell_type": "markdown",
      "source": [
        "# Elif Statement"
      ],
      "metadata": {
        "id": "sHkIsRiEozbL"
      }
    },
    {
      "cell_type": "markdown",
      "source": [
        "The elif keyword is Python's way of saying \"if the previous conditions were not true, then try this condition\"."
      ],
      "metadata": {
        "id": "ItcCthaco3d5"
      }
    },
    {
      "cell_type": "code",
      "source": [
        "a = 20\n",
        "b = 20\n",
        "if (a > b):\n",
        "  print(\"a is greater than b\")\n",
        "elif (a == b ):\n",
        "  print(\"a and b are equal\")"
      ],
      "metadata": {
        "colab": {
          "base_uri": "https://localhost:8080/"
        },
        "id": "vWpqTIbRnxFT",
        "outputId": "9e840797-1407-4bc8-94b9-eeee4b8ce2a4"
      },
      "execution_count": null,
      "outputs": [
        {
          "output_type": "stream",
          "name": "stdout",
          "text": [
            "a and b are equal\n"
          ]
        }
      ]
    },
    {
      "cell_type": "markdown",
      "source": [
        "# Else Statement"
      ],
      "metadata": {
        "id": "6hUc7haop2VJ"
      }
    },
    {
      "cell_type": "markdown",
      "source": [
        "The else keyword catches anything which isn't caught by the preceding conditions."
      ],
      "metadata": {
        "id": "uUrux-Iep689"
      }
    },
    {
      "cell_type": "code",
      "source": [
        "a = 20\n",
        "b = 30\n",
        "if (a > b):\n",
        "  print(\"a is greater than b\")\n",
        "elif (a == b ):\n",
        "  print(\"a and b are equal\")\n",
        "else:\n",
        "  print(\"a is not greater than b\")"
      ],
      "metadata": {
        "colab": {
          "base_uri": "https://localhost:8080/"
        },
        "id": "azrrrdLrp_7E",
        "outputId": "42ad9593-daa8-419b-cd0f-22723f8fcdee"
      },
      "execution_count": null,
      "outputs": [
        {
          "output_type": "stream",
          "name": "stdout",
          "text": [
            "a is not greater than b\n"
          ]
        }
      ]
    },
    {
      "cell_type": "code",
      "source": [
        "a = 20\n",
        "b = 30\n",
        "if (a > b):\n",
        "  print(\"a is greater than b\")                 #we can use if-else statements also\n",
        "else:\n",
        "  print(\"a is not greater than b\")"
      ],
      "metadata": {
        "id": "zNErCBTXqSBI"
      },
      "execution_count": null,
      "outputs": []
    },
    {
      "cell_type": "markdown",
      "source": [
        "# Nested if Statements\n",
        "\n"
      ],
      "metadata": {
        "id": "wodXdjbkqs9I"
      }
    },
    {
      "cell_type": "markdown",
      "source": [
        "\n",
        "if statements inside if statements is called nested if statements."
      ],
      "metadata": {
        "id": "6lVyK7aNq1Fy"
      }
    },
    {
      "cell_type": "code",
      "source": [
        "x = 33\n",
        "if x > 10:\n",
        "  print(\"Above 20,\")\n",
        "  if x > 20:\n",
        "    print(\"and also above 30!\")\n",
        "  else:\n",
        "    print(\"but not above 30.\")"
      ],
      "metadata": {
        "colab": {
          "base_uri": "https://localhost:8080/"
        },
        "id": "E7oVX4K1q-f2",
        "outputId": "4024d566-7ac6-431c-fbc8-25e8cf1a13bf"
      },
      "execution_count": null,
      "outputs": [
        {
          "output_type": "stream",
          "name": "stdout",
          "text": [
            "Above 20,\n",
            "and also above 30!\n"
          ]
        }
      ]
    },
    {
      "cell_type": "markdown",
      "source": [
        "# While Loop"
      ],
      "metadata": {
        "id": "bJXLVGQ6rnk5"
      }
    },
    {
      "cell_type": "markdown",
      "source": [
        "With the while loop we can execute a set of statements as long as a condition is true."
      ],
      "metadata": {
        "id": "JYDaboINrrZr"
      }
    },
    {
      "cell_type": "code",
      "source": [
        "i = 4\n",
        "while i < 6:\n",
        "  print(i)\n",
        "  i += 1"
      ],
      "metadata": {
        "colab": {
          "base_uri": "https://localhost:8080/"
        },
        "id": "tJlVN4rRsCyw",
        "outputId": "ade3dc78-3d7e-4567-d804-07e932f3e803"
      },
      "execution_count": null,
      "outputs": [
        {
          "output_type": "stream",
          "name": "stdout",
          "text": [
            "4\n",
            "5\n"
          ]
        }
      ]
    },
    {
      "cell_type": "markdown",
      "source": [
        "With the break statement we can stop the loop even if the while condition is true:"
      ],
      "metadata": {
        "id": "sGLuBvRvspRW"
      }
    },
    {
      "cell_type": "code",
      "source": [
        "i = 3\n",
        "while i < 12:\n",
        "  print(i)\n",
        "  if i == 3:            #break statement\n",
        "    break\n",
        "  i += 1"
      ],
      "metadata": {
        "colab": {
          "base_uri": "https://localhost:8080/"
        },
        "id": "UzbRiI9dssqj",
        "outputId": "4021d3b5-861b-4251-faf1-1699245e9eff"
      },
      "execution_count": null,
      "outputs": [
        {
          "output_type": "stream",
          "name": "stdout",
          "text": [
            "3\n"
          ]
        }
      ]
    },
    {
      "cell_type": "markdown",
      "source": [
        "With the continue statement we can stop the current iteration, and continue with the next:"
      ],
      "metadata": {
        "id": "rZ-5ZzshtJXs"
      }
    },
    {
      "cell_type": "code",
      "source": [
        "i = 0\n",
        "while i < 6:\n",
        "  i += 1\n",
        "  if i == 3:\n",
        "    continue           #continue statement\n",
        "  print(i)"
      ],
      "metadata": {
        "colab": {
          "base_uri": "https://localhost:8080/"
        },
        "id": "5Z89mLfytLJu",
        "outputId": "75bbeb10-ef4a-4a64-94e1-38c3624659c7"
      },
      "execution_count": null,
      "outputs": [
        {
          "output_type": "stream",
          "name": "stdout",
          "text": [
            "1\n",
            "2\n",
            "4\n",
            "5\n",
            "6\n"
          ]
        }
      ]
    },
    {
      "cell_type": "markdown",
      "source": [
        "With the else statement we can run a block of code once when the condition no longer is true:"
      ],
      "metadata": {
        "id": "3XRHMfUktXDA"
      }
    },
    {
      "cell_type": "code",
      "source": [
        "i = 8\n",
        "while i < 6:\n",
        "  print(i)\n",
        "  i += 1\n",
        "else:                                  #else statement\n",
        "  print(\"i is no longer less than 6\")"
      ],
      "metadata": {
        "colab": {
          "base_uri": "https://localhost:8080/"
        },
        "id": "YTqUZMKwtean",
        "outputId": "5611eec6-dbed-4933-8563-210306f5f588"
      },
      "execution_count": null,
      "outputs": [
        {
          "output_type": "stream",
          "name": "stdout",
          "text": [
            "i is no longer less than 6\n"
          ]
        }
      ]
    },
    {
      "cell_type": "markdown",
      "source": [
        "# For Loop"
      ],
      "metadata": {
        "id": "OKt9oikLuVez"
      }
    },
    {
      "cell_type": "markdown",
      "source": [
        "A for loop is used for iterating over a sequence (that is either a list, a tuple, a dictionary, a set, or a string)."
      ],
      "metadata": {
        "id": "lXzl_UorubBq"
      }
    },
    {
      "cell_type": "code",
      "source": [
        "family = [\"Yassu\",\"Tanu\",\"Chinnu\",\"Dhanu\"]\n",
        "for x in family:\n",
        "  print(x)"
      ],
      "metadata": {
        "colab": {
          "base_uri": "https://localhost:8080/"
        },
        "id": "WP9kotYvu7oR",
        "outputId": "ed111614-6c64-4aa4-d035-cd68122714a8"
      },
      "execution_count": null,
      "outputs": [
        {
          "output_type": "stream",
          "name": "stdout",
          "text": [
            "Yassu\n",
            "Tanu\n",
            "Chinnu\n",
            "Dhanu\n"
          ]
        }
      ]
    },
    {
      "cell_type": "markdown",
      "source": [
        "Even strings are iterable objects, they contain a sequence of characters:"
      ],
      "metadata": {
        "id": "c-ZeKl7AviZ-"
      }
    },
    {
      "cell_type": "code",
      "source": [
        "for x in \"YASSU\":\n",
        "  print(x)"
      ],
      "metadata": {
        "colab": {
          "base_uri": "https://localhost:8080/"
        },
        "id": "STnWwR8QvfWr",
        "outputId": "88816738-e168-4c7d-87ae-787283258ca1"
      },
      "execution_count": null,
      "outputs": [
        {
          "output_type": "stream",
          "name": "stdout",
          "text": [
            "Y\n",
            "A\n",
            "S\n",
            "S\n",
            "U\n"
          ]
        }
      ]
    },
    {
      "cell_type": "markdown",
      "source": [
        "With the break statement we can stop the loop before it has looped through all the items:"
      ],
      "metadata": {
        "id": "PBPlRYV6v1j2"
      }
    },
    {
      "cell_type": "code",
      "source": [
        "family = [\"Yassu\",\"Tanu\",\"Chinnu\",\"Dhanu\"]\n",
        "for x in family:\n",
        "  print(x)\n",
        "  if x == \"Chinnu\":\n",
        "    break"
      ],
      "metadata": {
        "colab": {
          "base_uri": "https://localhost:8080/"
        },
        "id": "5b5NzE1xv2W8",
        "outputId": "1c77883d-9f30-4ebc-8a99-642b3eaf1f8f"
      },
      "execution_count": null,
      "outputs": [
        {
          "output_type": "stream",
          "name": "stdout",
          "text": [
            "Yassu\n",
            "Tanu\n",
            "Chinnu\n"
          ]
        }
      ]
    },
    {
      "cell_type": "markdown",
      "source": [
        "With the break statement we can stop the loop before it has looped through all the items:"
      ],
      "metadata": {
        "id": "jyNxrzPkxDuq"
      }
    },
    {
      "cell_type": "code",
      "source": [
        "family = c\n",
        "for x in family:\n",
        "  if x == \"Chinnu\":\n",
        "    continue\n",
        "  print(x)"
      ],
      "metadata": {
        "colab": {
          "base_uri": "https://localhost:8080/"
        },
        "id": "ACftM08hxZC0",
        "outputId": "9c6026af-41aa-4b5f-c9ce-90ca9234c313"
      },
      "execution_count": null,
      "outputs": [
        {
          "output_type": "stream",
          "name": "stdout",
          "text": [
            "Yassu\n",
            "Tanu\n",
            "Dhanu\n"
          ]
        }
      ]
    },
    {
      "cell_type": "markdown",
      "source": [
        "Using the range() function:"
      ],
      "metadata": {
        "id": "DTRJ_4sdxqVc"
      }
    },
    {
      "cell_type": "code",
      "source": [
        "for x in range(6):\n",
        "  print(x)"
      ],
      "metadata": {
        "colab": {
          "base_uri": "https://localhost:8080/"
        },
        "id": "IbU8f1ImxpWJ",
        "outputId": "ab03b35f-8b64-48ee-adbe-7d7415091fdc"
      },
      "execution_count": null,
      "outputs": [
        {
          "output_type": "stream",
          "name": "stdout",
          "text": [
            "0\n",
            "1\n",
            "2\n",
            "3\n",
            "4\n",
            "5\n"
          ]
        }
      ]
    },
    {
      "cell_type": "markdown",
      "source": [
        "The else keyword in a for loop specifies a block of code to be executed when the loop is finished:"
      ],
      "metadata": {
        "id": "WJSFFiX6yLRs"
      }
    },
    {
      "cell_type": "code",
      "source": [
        "for x in range(6):\n",
        "  print(x)\n",
        "else:                                  #Else in For Loop\n",
        "  print(\"Finally finished!\")"
      ],
      "metadata": {
        "colab": {
          "base_uri": "https://localhost:8080/"
        },
        "id": "CfIjulaAyMNC",
        "outputId": "f2f2bdc1-5ee6-4a01-ea78-6e2dd74b403d"
      },
      "execution_count": null,
      "outputs": [
        {
          "output_type": "stream",
          "name": "stdout",
          "text": [
            "0\n",
            "1\n",
            "2\n",
            "3\n",
            "4\n",
            "5\n",
            "Finally finished!\n"
          ]
        }
      ]
    },
    {
      "cell_type": "markdown",
      "source": [
        "A nested loop is a loop inside a loop.\n",
        "\n",
        "The \"inner loop\" will be executed one time for each iteration of the \"outer loop\":"
      ],
      "metadata": {
        "id": "xfVxsADByZEE"
      }
    },
    {
      "cell_type": "code",
      "source": [
        "family1 = [\"Yassu\",\"Tanu\",\"Chinnu\",\"Dhanu\"]\n",
        "family2 = [\"Bavani\", \"Srinu\", \"Uma\"]\n",
        "for x in family1:\n",
        "  for y in family2:                              #Nested Loops\n",
        "    print(x, y)"
      ],
      "metadata": {
        "colab": {
          "base_uri": "https://localhost:8080/"
        },
        "id": "RR47L7swydRs",
        "outputId": "67046611-7fb2-4a46-d651-fb85ffb85ddc"
      },
      "execution_count": null,
      "outputs": [
        {
          "output_type": "stream",
          "name": "stdout",
          "text": [
            "Yassu Bavani\n",
            "Yassu Srinu\n",
            "Yassu Uma\n",
            "Tanu Bavani\n",
            "Tanu Srinu\n",
            "Tanu Uma\n",
            "Chinnu Bavani\n",
            "Chinnu Srinu\n",
            "Chinnu Uma\n",
            "Dhanu Bavani\n",
            "Dhanu Srinu\n",
            "Dhanu Uma\n"
          ]
        }
      ]
    },
    {
      "cell_type": "markdown",
      "source": [
        "# Tenary Operators"
      ],
      "metadata": {
        "id": "46sl2dcYYJ0t"
      }
    },
    {
      "cell_type": "markdown",
      "source": [
        "It is a concise way of writing simple  if/else statements ina single line"
      ],
      "metadata": {
        "id": "GYKNsnqsYRec"
      }
    },
    {
      "cell_type": "code",
      "source": [
        "a = 10\n",
        "b = 20\n",
        "if a < b:\n",
        "  print(b)\n",
        "else:\n",
        "  print(a)"
      ],
      "metadata": {
        "colab": {
          "base_uri": "https://localhost:8080/"
        },
        "id": "bgQFIg-ha6ha",
        "outputId": "86797429-3746-4bfa-9ccd-d9d09769faa2"
      },
      "execution_count": null,
      "outputs": [
        {
          "output_type": "stream",
          "name": "stdout",
          "text": [
            "20\n"
          ]
        }
      ]
    },
    {
      "cell_type": "markdown",
      "source": [
        "# Short Hand If"
      ],
      "metadata": {
        "id": "hmM0_4yGbBEH"
      }
    },
    {
      "cell_type": "markdown",
      "source": [
        "If you have only one statement to execete , can put it on the same line as the if statement"
      ],
      "metadata": {
        "id": "4hbAknG-bEn-"
      }
    },
    {
      "cell_type": "code",
      "source": [
        "a=50\n",
        "b=30\n",
        "if a>b:\n",
        "  print(\"a is greater than b\")"
      ],
      "metadata": {
        "colab": {
          "base_uri": "https://localhost:8080/"
        },
        "id": "uNv8dreHbXHg",
        "outputId": "3693485f-29fc-4890-f587-b78b7622cb9e"
      },
      "execution_count": null,
      "outputs": [
        {
          "output_type": "stream",
          "name": "stdout",
          "text": [
            "a is greater than b\n"
          ]
        }
      ]
    },
    {
      "cell_type": "markdown",
      "source": [
        "# Short Hand If-else"
      ],
      "metadata": {
        "id": "7zLzmTCBbc1X"
      }
    },
    {
      "cell_type": "markdown",
      "source": [
        "If you have only one statement to execete , one for if an one for else , can put it all on the same line"
      ],
      "metadata": {
        "id": "amHmxJb0bfHd"
      }
    },
    {
      "cell_type": "code",
      "source": [
        "a=50\n",
        "b=300\n",
        "print(\"A\") if a>b else print(\"B\")"
      ],
      "metadata": {
        "colab": {
          "base_uri": "https://localhost:8080/"
        },
        "id": "7BSGbvp0bzN2",
        "outputId": "6d688438-7741-4edd-b1b7-cbaca8366663"
      },
      "execution_count": null,
      "outputs": [
        {
          "output_type": "stream",
          "name": "stdout",
          "text": [
            "B\n"
          ]
        }
      ]
    },
    {
      "cell_type": "markdown",
      "source": [
        "# AND"
      ],
      "metadata": {
        "id": "6WuqhCxnbzli"
      }
    },
    {
      "cell_type": "markdown",
      "source": [
        "And key word is a logical operator and it used to combine conditional statements"
      ],
      "metadata": {
        "id": "hNXvZ66Rb21X"
      }
    },
    {
      "cell_type": "code",
      "source": [
        "a=200\n",
        "b=30\n",
        "c=400\n",
        "if a>b and c>a:\n",
        "    print(\"Both conditions are true\")"
      ],
      "metadata": {
        "colab": {
          "base_uri": "https://localhost:8080/"
        },
        "id": "Y5jKksn5cRva",
        "outputId": "e5fa50bb-6805-4be9-df26-b46807c0d694"
      },
      "execution_count": null,
      "outputs": [
        {
          "output_type": "stream",
          "name": "stdout",
          "text": [
            "Both conditions are true\n"
          ]
        }
      ]
    },
    {
      "cell_type": "markdown",
      "source": [
        "# OR"
      ],
      "metadata": {
        "id": "CPJqlzykdTh0"
      }
    },
    {
      "cell_type": "markdown",
      "source": [
        "the or keyword is a logical operator, and it also used to combine the conditional statements"
      ],
      "metadata": {
        "id": "gTFvBXuzdVfD"
      }
    },
    {
      "cell_type": "code",
      "source": [
        "a=200\n",
        "b=30\n",
        "c=400\n",
        "if a>b or c>a:\n",
        "    print(\"At least one of the condition is true\")"
      ],
      "metadata": {
        "colab": {
          "base_uri": "https://localhost:8080/"
        },
        "id": "s55Mtxroe-ef",
        "outputId": "1813e560-7055-4c05-fdf1-74c163306c8e"
      },
      "execution_count": null,
      "outputs": [
        {
          "output_type": "stream",
          "name": "stdout",
          "text": [
            "At least one of the condition is true\n"
          ]
        }
      ]
    },
    {
      "cell_type": "markdown",
      "source": [
        "# NOT"
      ],
      "metadata": {
        "id": "13xnL6bafBaO"
      }
    },
    {
      "cell_type": "markdown",
      "source": [
        "the not keyword is a logical operator,and it is used to reverse the result of the conditional statement"
      ],
      "metadata": {
        "id": "JYh24iOFfFus"
      }
    },
    {
      "cell_type": "code",
      "source": [
        "a=50\n",
        "b=400\n",
        "if not a>b:\n",
        "    print(\"a is NOT greater than b\")"
      ],
      "metadata": {
        "id": "2kFhNLb5fI6S",
        "outputId": "6b4c412a-f3ee-4893-d00f-da345f99c828",
        "colab": {
          "base_uri": "https://localhost:8080/"
        }
      },
      "execution_count": null,
      "outputs": [
        {
          "output_type": "stream",
          "name": "stdout",
          "text": [
            "a is NOT greater than b\n"
          ]
        }
      ]
    }
  ]
}