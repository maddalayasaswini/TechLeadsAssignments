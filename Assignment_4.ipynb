{
  "nbformat": 4,
  "nbformat_minor": 0,
  "metadata": {
    "colab": {
      "provenance": [],
      "authorship_tag": "ABX9TyNWc8I1e1aZEZ4vi7WoUccX",
      "include_colab_link": true
    },
    "kernelspec": {
      "name": "python3",
      "display_name": "Python 3"
    },
    "language_info": {
      "name": "python"
    }
  },
  "cells": [
    {
      "cell_type": "markdown",
      "metadata": {
        "id": "view-in-github",
        "colab_type": "text"
      },
      "source": [
        "<a href=\"https://colab.research.google.com/github/maddalayasaswini/TechLeadsAssignments/blob/main/Assignment_4.ipynb\" target=\"_parent\"><img src=\"https://colab.research.google.com/assets/colab-badge.svg\" alt=\"Open In Colab\"/></a>"
      ]
    },
    {
      "cell_type": "markdown",
      "source": [
        "# TUPLES"
      ],
      "metadata": {
        "id": "5YkbR5S_DbRo"
      }
    },
    {
      "cell_type": "markdown",
      "source": [
        "Tuples are used to store multiple items in a single variable."
      ],
      "metadata": {
        "id": "B6WdIr55Dfwj"
      }
    },
    {
      "cell_type": "code",
      "source": [
        "a = (\"YASASWINI\",\"SRINIVAS RAO\",\"LAXMI\")\n",
        "print(a)\n",
        "print(len(a))            #Number of items in tuple\n",
        "print(type(a))\n",
        "b = tuple((\"YASASWINI\",\"SRINIVAS RAO\",\"LAXMI\"))         #Tuple construtor\n",
        "print(b)"
      ],
      "metadata": {
        "colab": {
          "base_uri": "https://localhost:8080/"
        },
        "id": "ZEV7snviDnhr",
        "outputId": "f03cd9c6-37c5-4420-d597-16a1650c81d7"
      },
      "execution_count": null,
      "outputs": [
        {
          "output_type": "stream",
          "name": "stdout",
          "text": [
            "('YASASWINI', 'SRINIVAS RAO', 'LAXMI')\n",
            "3\n",
            "<class 'tuple'>\n",
            "('YASASWINI', 'SRINIVAS RAO', 'LAXMI')\n"
          ]
        }
      ]
    },
    {
      "cell_type": "code",
      "source": [
        "a = (\"YASASWINI\",\"SRINIVAS RAO\",\"LAXMI\")\n",
        "print(a[1])           #2nd item of the list\n",
        "print(a[-1])          #refers to the last items\n",
        "print(a[2:3])         #Range of indexes\n",
        "print(a[:2])\n",
        "print(a[1:])\n",
        "print(a[-3:-1])        #Negative indexing"
      ],
      "metadata": {
        "colab": {
          "base_uri": "https://localhost:8080/"
        },
        "id": "BF33-hJsDrXO",
        "outputId": "fb5ee391-dce5-43d0-97b3-397266757ae5"
      },
      "execution_count": null,
      "outputs": [
        {
          "output_type": "stream",
          "name": "stdout",
          "text": [
            "SRINIVAS RAO\n",
            "LAXMI\n",
            "('LAXMI',)\n",
            "('YASASWINI', 'SRINIVAS RAO')\n",
            "('SRINIVAS RAO', 'LAXMI')\n",
            "('YASASWINI', 'SRINIVAS RAO')\n"
          ]
        }
      ]
    },
    {
      "cell_type": "code",
      "source": [
        "a = (\"YASASWINI\",\"SRINIVAS RAO\",\"LAXMI\")\n",
        "if \"YASASWINI\" in a:\n",
        "  print(\"Yes, 'YASASWINI' is in the a list\")   #check if item exists"
      ],
      "metadata": {
        "colab": {
          "base_uri": "https://localhost:8080/"
        },
        "id": "smGFH7nEDuo0",
        "outputId": "d08df0d9-251c-4d61-eccc-d318319074ea"
      },
      "execution_count": null,
      "outputs": [
        {
          "output_type": "stream",
          "name": "stdout",
          "text": [
            "Yes, 'YASASWINI' is in the a list\n"
          ]
        }
      ]
    },
    {
      "cell_type": "code",
      "source": [
        "a = (\"YASASWINI\",\"SRINIVAS RAO\",\"LAXMI\")\n",
        "b = list(a)\n",
        "b[1] = \"DHANUSH\"\n",
        "a = tuple(a)\n",
        "print(a)\n",
        "b[1:2] = (\"CHINNU\", \"DHANUSH\")      #change in range of item values\n",
        "print(a)"
      ],
      "metadata": {
        "colab": {
          "base_uri": "https://localhost:8080/"
        },
        "id": "aY0HbirID7p5",
        "outputId": "31873941-d849-47dd-9f3d-9c459350f9ab"
      },
      "execution_count": null,
      "outputs": [
        {
          "output_type": "stream",
          "name": "stdout",
          "text": [
            "('YASASWINI', 'SRINIVAS RAO', 'LAXMI')\n",
            "('YASASWINI', 'SRINIVAS RAO', 'LAXMI')\n"
          ]
        }
      ]
    },
    {
      "cell_type": "code",
      "source": [
        "a = (\"YASASWINI\",\"SRINIVAS RAO\",\"LAXMI\")\n",
        "b = list(a)\n",
        "b.append(\"DHANUSH\")       #adds the given item\n",
        "a = tuple(b)\n",
        "print(a)\n",
        "b.remove(\"YASASWINI\")     #remove the give item\n",
        "print(a)"
      ],
      "metadata": {
        "colab": {
          "base_uri": "https://localhost:8080/"
        },
        "id": "lImW65mNEA0E",
        "outputId": "7dc6c1ee-e223-4ee5-9738-a33399178283"
      },
      "execution_count": null,
      "outputs": [
        {
          "output_type": "stream",
          "name": "stdout",
          "text": [
            "('YASASWINI', 'SRINIVAS RAO', 'LAXMI', 'DHANUSH')\n",
            "('YASASWINI', 'SRINIVAS RAO', 'LAXMI', 'DHANUSH')\n"
          ]
        }
      ]
    },
    {
      "cell_type": "code",
      "source": [
        "a = (\"YASASWINI\",\"SRINIVAS RAO\",\"LAXMI\")\n",
        "(CHINNU,THANU,UMA) = a\n",
        "print(CHINNU)\n",
        "print(THANU)              #packing a tuple\n",
        "print(UMA)"
      ],
      "metadata": {
        "colab": {
          "base_uri": "https://localhost:8080/"
        },
        "id": "v_l4DwXbEDIf",
        "outputId": "70c95ca1-f674-4318-81f3-44b6eef7e74a"
      },
      "execution_count": null,
      "outputs": [
        {
          "output_type": "stream",
          "name": "stdout",
          "text": [
            "YASASWINI\n",
            "SRINIVAS RAO\n",
            "LAXMI\n"
          ]
        }
      ]
    },
    {
      "cell_type": "code",
      "source": [
        "a = (\"YASASWINI\",\"SRINIVAS RAO\",\"LAXMI\")\n",
        "(CHINNU,THANU,*UMA) = a        #using asterik*\n",
        "print(CHINNU)\n",
        "print(THANU)\n",
        "print(UMA)"
      ],
      "metadata": {
        "colab": {
          "base_uri": "https://localhost:8080/"
        },
        "id": "0nVZCo1xEJmA",
        "outputId": "75e1ff33-1769-4652-9e46-a1da50a6563a"
      },
      "execution_count": null,
      "outputs": [
        {
          "output_type": "stream",
          "name": "stdout",
          "text": [
            "YASASWINI\n",
            "SRINIVAS RAO\n",
            "['LAXMI']\n"
          ]
        }
      ]
    },
    {
      "cell_type": "code",
      "source": [
        "a = (\"YASASWINI\",\"SRINIVAS RAO\",\"LAXMI\")\n",
        "for x in a:\n",
        "  print(x)                   #loop through a tuple\n",
        "for i in range(len(a)):           #using range() len()\n",
        "  print(a[i])"
      ],
      "metadata": {
        "colab": {
          "base_uri": "https://localhost:8080/"
        },
        "id": "0Z4nZ0q1EPji",
        "outputId": "a8df756f-7dde-49f5-b35c-b76e0eb3c53d"
      },
      "execution_count": null,
      "outputs": [
        {
          "output_type": "stream",
          "name": "stdout",
          "text": [
            "YASASWINI\n",
            "SRINIVAS RAO\n",
            "LAXMI\n",
            "YASASWINI\n",
            "SRINIVAS RAO\n",
            "LAXMI\n"
          ]
        }
      ]
    },
    {
      "cell_type": "code",
      "source": [
        "a = (\"YASASWINI\",\"SRINIVAS RAO\",\"LAXMI\")\n",
        "i = 0\n",
        "while i < len(a):           #using while loop\n",
        "  print(a[i])\n",
        "  i = i + 1"
      ],
      "metadata": {
        "colab": {
          "base_uri": "https://localhost:8080/"
        },
        "id": "-iIKnYE2EW7V",
        "outputId": "d0cdbce6-b6f8-47aa-d302-8e4c1ed9947a"
      },
      "execution_count": null,
      "outputs": [
        {
          "output_type": "stream",
          "name": "stdout",
          "text": [
            "YASASWINI\n",
            "SRINIVAS RAO\n",
            "LAXMI\n"
          ]
        }
      ]
    },
    {
      "cell_type": "code",
      "source": [
        "a = (\"YASASWINI\",\"SRINIVAS RAO\",\"LAXMI\",\"DHANUSH\")\n",
        "b = (\"CHINNU\",\"THANU\",\"UMA\")\n",
        "print(a+b)\n",
        "mytuple = b*2           #joining tuples\n",
        "print(mytuple)"
      ],
      "metadata": {
        "id": "34dhOcs4Ecj_"
      },
      "execution_count": null,
      "outputs": []
    },
    {
      "cell_type": "markdown",
      "source": [
        "*Tuple Methods*"
      ],
      "metadata": {
        "id": "edLwTnBsEgiZ"
      }
    },
    {
      "cell_type": "code",
      "source": [
        "a = (1,2,3,5,7,9,4,7,9)\n",
        "b = a.count(7)          #nReturns the nn. of times a specified value occurs in a tuple\n",
        "print(b)\n",
        "c = a.count(7)          #\tSearches the tuple for a specified value and returns the position of where it was found\n",
        "print(c)"
      ],
      "metadata": {
        "colab": {
          "base_uri": "https://localhost:8080/"
        },
        "id": "07miFN77EsK6",
        "outputId": "64e0c533-ab20-46b2-a072-e553f830b0d3"
      },
      "execution_count": null,
      "outputs": [
        {
          "output_type": "stream",
          "name": "stdout",
          "text": [
            "2\n",
            "2\n"
          ]
        }
      ]
    },
    {
      "cell_type": "markdown",
      "source": [
        "# DICTIONARIES"
      ],
      "metadata": {
        "id": "gmXY2UwsFnPq"
      }
    },
    {
      "cell_type": "markdown",
      "source": [
        "Dictionaries are used to store data values in key:value pairs.\n",
        "\n",
        "A dictionary is a collection which is ordered*, changeable and do not allow duplicates."
      ],
      "metadata": {
        "id": "OtSCOZT8Fzzw"
      }
    },
    {
      "cell_type": "code",
      "source": [
        "a = {\"YASASWINI\":\"DHANUSH\" , \"SRINIVAS\":\"LAXMI\" , \"YEAR\":2002}\n",
        "print(a)\n",
        "print(a[\"YASASWINI\"])    #Print the value of the qiven dictionary\n",
        "print(len(a))      #Print the numbers of items in the dictionary"
      ],
      "metadata": {
        "colab": {
          "base_uri": "https://localhost:8080/"
        },
        "id": "xNMllUgGF1Sk",
        "outputId": "48d3f08a-6a69-41fb-c676-e92557bae4f6"
      },
      "execution_count": null,
      "outputs": [
        {
          "output_type": "stream",
          "name": "stdout",
          "text": [
            "{'YASASWINI': 'DHANUSH', 'SRINIVAS': 'LAXMI', 'YEAR': 2002}\n",
            "DHANUSH\n",
            "3\n"
          ]
        }
      ]
    },
    {
      "cell_type": "code",
      "source": [
        "a = {\"YASASWINI\":\"DHANUSH\" , \"SRINIVAS\":\"LAXMI\" , \"YEAR\":2002 , \"colour\" : [\"green\",\"pink\"]}\n",
        "print(a)\n",
        "print(type(a))\n",
        "b = dict(YASASWINI = \"DHANUSH\" , SRINIVAS = \"LAXMI\" , YEAR = 2002 )\n",
        "print(b)"
      ],
      "metadata": {
        "colab": {
          "base_uri": "https://localhost:8080/"
        },
        "id": "wDfWK68jF3Pi",
        "outputId": "972c4aa9-e316-47cf-80d2-477f4c9d513e"
      },
      "execution_count": null,
      "outputs": [
        {
          "output_type": "stream",
          "name": "stdout",
          "text": [
            "{'YASASWINI': 'DHANUSH', 'SRINIVAS': 'LAXMI', 'YEAR': 2002, 'colour': ['green', 'pink']}\n",
            "<class 'dict'>\n",
            "{'YASASWINI': 'DHANUSH', 'SRINIVAS': 'LAXMI', 'YEAR': 2002}\n"
          ]
        }
      ]
    },
    {
      "cell_type": "code",
      "source": [
        "a = {\"YASASWINI\":\"DHANUSH\" , \"SRINIVAS\":\"LAXMI\" , \"YEAR\":2002 , \"colour\" : [\"green\",\"pink\"]}\n",
        "a = a[\"YASASWINI\"]         #accessing items\n",
        "print(a)"
      ],
      "metadata": {
        "colab": {
          "base_uri": "https://localhost:8080/"
        },
        "id": "NoropGm8F6fG",
        "outputId": "35a8ca5d-d108-4c1c-f61a-c582f991ded8"
      },
      "execution_count": null,
      "outputs": [
        {
          "output_type": "stream",
          "name": "stdout",
          "text": [
            "DHANUSH\n"
          ]
        }
      ]
    },
    {
      "cell_type": "markdown",
      "source": [
        "*Dictionary Methods*"
      ],
      "metadata": {
        "id": "weTkfES4Gv2P"
      }
    },
    {
      "cell_type": "code",
      "source": [
        "a = {\"YASASWINI\":\"DHANUSH\" , \"SRINIVAS\":\"LAXMI\" , \"YEAR\":2002 , \"colour\" : [\"green\",\"pink\"]}\n",
        "x = a.keys()         #get() that will give you the same result\n",
        "print(x)\n",
        "b = a.get(\"YEAR\")    #keys() method will return a list of all the keys in the dictionary\n",
        "print(b)\n",
        "c = a.values()       #values() method will return a list of all the values in the dictionary\n",
        "print(c)\n",
        "d = a.items()        #items() method will return each item in a dictionary, as tuples in a list\n",
        "print(d)"
      ],
      "metadata": {
        "colab": {
          "base_uri": "https://localhost:8080/"
        },
        "id": "njE2bLpTF_sH",
        "outputId": "02b6a7ad-03dc-47a0-b139-c5242b39ebee"
      },
      "execution_count": null,
      "outputs": [
        {
          "output_type": "stream",
          "name": "stdout",
          "text": [
            "dict_keys(['YASASWINI', 'SRINIVAS', 'YEAR', 'colour'])\n",
            "2002\n",
            "dict_values(['DHANUSH', 'LAXMI', 2002, ['green', 'pink']])\n",
            "dict_items([('YASASWINI', 'DHANUSH'), ('SRINIVAS', 'LAXMI'), ('YEAR', 2002), ('colour', ['green', 'pink'])])\n"
          ]
        }
      ]
    },
    {
      "cell_type": "code",
      "source": [
        "a = {\"YASASWINI\":\"DHANUSH\" , \"SRINIVAS\":\"LAXMI\" , \"YEAR\":2002 , \"colour\" : [\"green\",\"pink\"]}\n",
        "a[\"YEAR\"] = 2003          #change the specific item by refferring to its key name\n",
        "print(a)\n",
        "a.update({\"YEAR\":2023})   #update() method will update the dictionary with the items from the given argument\n",
        "print(a)\n",
        "a[\"THANU\"] = \"CHINNU\"        #adding items\n",
        "print(a)\n",
        "a.pop(\"SRINIVAS\")         #pop() method removes the item with the specified key name\n",
        "print(a)\n",
        "a.popitem()         #popitem() method removes the last inserted item\n",
        "print(a)\n",
        "del a[\"YASASWINI\"]    #del keyword removes the item with the specified key name\n",
        "print(a)\n",
        "a.clear()           #clear() method empties the dictionary\n",
        "print(a)"
      ],
      "metadata": {
        "colab": {
          "base_uri": "https://localhost:8080/"
        },
        "id": "KbnbsKL-GDQe",
        "outputId": "02fb724e-c55b-4d26-8461-5ed1406c3f64"
      },
      "execution_count": null,
      "outputs": [
        {
          "output_type": "stream",
          "name": "stdout",
          "text": [
            "{'YASASWINI': 'DHANUSH', 'SRINIVAS': 'LAXMI', 'YEAR': 2003, 'colour': ['green', 'pink']}\n",
            "{'YASASWINI': 'DHANUSH', 'SRINIVAS': 'LAXMI', 'YEAR': 2023, 'colour': ['green', 'pink']}\n",
            "{'YASASWINI': 'DHANUSH', 'SRINIVAS': 'LAXMI', 'YEAR': 2023, 'colour': ['green', 'pink'], 'THANU': 'CHINNU'}\n",
            "{'YASASWINI': 'DHANUSH', 'YEAR': 2023, 'colour': ['green', 'pink'], 'THANU': 'CHINNU'}\n",
            "{'YASASWINI': 'DHANUSH', 'YEAR': 2023, 'colour': ['green', 'pink']}\n",
            "{'YEAR': 2023, 'colour': ['green', 'pink']}\n",
            "{}\n"
          ]
        }
      ]
    },
    {
      "cell_type": "code",
      "source": [
        "#Loop through a dictonary\n",
        "a = {\"YASASWINI\":\"DHANUSH\" , \"SRINIVAS\":\"LAXMI\" , \"YEAR\":2002 }\n",
        "for x in a:              #Print all key names in the dictionary, one by one\n",
        "  print(x)\n",
        "for x in a.values():     #values() method to return values of a dictionary\n",
        "  print(x)\n",
        "for x in a.keys():       #keys() method to return the keys of a dictionary\n",
        "  print(x)\n",
        "for x,y in a.items():    #Loop through both keys and values, by using the items() method\n",
        "  print(x, y)"
      ],
      "metadata": {
        "colab": {
          "base_uri": "https://localhost:8080/"
        },
        "id": "qV1makN6GITZ",
        "outputId": "8b54ece6-729b-4016-c9d8-26ec8dfe7990"
      },
      "execution_count": null,
      "outputs": [
        {
          "output_type": "stream",
          "name": "stdout",
          "text": [
            "YASASWINI\n",
            "SRINIVAS\n",
            "YEAR\n",
            "DHANUSH\n",
            "LAXMI\n",
            "2002\n",
            "YASASWINI\n",
            "SRINIVAS\n",
            "YEAR\n",
            "YASASWINI DHANUSH\n",
            "SRINIVAS LAXMI\n",
            "YEAR 2002\n"
          ]
        }
      ]
    },
    {
      "cell_type": "code",
      "source": [
        "a = {\"YASASWINI\":\"DHANUSH\" , \"SRINIVAS\":\"LAXMI\" , \"YEAR\":2002 }\n",
        "mydict = a.copy()           #Make a copy of a dictionary\n",
        "print(mydict)\n",
        "mydict = dict(a)            #Make a copy of a dictionary\n",
        "print(mydict)"
      ],
      "metadata": {
        "colab": {
          "base_uri": "https://localhost:8080/"
        },
        "id": "odHZI6CsGSJT",
        "outputId": "cb07de8a-ce3f-4189-c525-0d5d93e4f7d5"
      },
      "execution_count": null,
      "outputs": [
        {
          "output_type": "stream",
          "name": "stdout",
          "text": [
            "{'YASASWINI': 'DHANUSH', 'SRINIVAS': 'LAXMI', 'YEAR': 2002}\n",
            "{'YASASWINI': 'DHANUSH', 'SRINIVAS': 'LAXMI', 'YEAR': 2002}\n"
          ]
        }
      ]
    },
    {
      "cell_type": "code",
      "source": [
        "a = {\"MADDALA\":{\"YASASWINI\":\"DHANUSH\" , \"SRINIVAS\":\"LAXMI\"}, \"KORIBILLI\":{\"VASU\":\"UMA\" , \"CHINNU\":\"THANU\"} , \"YEAR\":2002 }\n",
        "print(a)\n",
        "print(a[\"KORIBILLI\"],a[\"MADDALA\"])         #nested dictionary"
      ],
      "metadata": {
        "colab": {
          "base_uri": "https://localhost:8080/"
        },
        "id": "ypDShduZGVGZ",
        "outputId": "f62648f8-8641-4c10-f171-f9a26bc30b96"
      },
      "execution_count": null,
      "outputs": [
        {
          "output_type": "stream",
          "name": "stdout",
          "text": [
            "{'MADDALA': {'YASASWINI': 'DHANUSH', 'SRINIVAS': 'LAXMI'}, 'KORIBILLI': {'VASU': 'UMA', 'CHINNU': 'THANU'}, 'YEAR': 2002}\n",
            "{'VASU': 'UMA', 'CHINNU': 'THANU'} {'YASASWINI': 'DHANUSH', 'SRINIVAS': 'LAXMI'}\n"
          ]
        }
      ]
    }
  ]
}