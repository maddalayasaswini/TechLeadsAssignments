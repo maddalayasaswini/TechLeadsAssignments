{
  "nbformat": 4,
  "nbformat_minor": 0,
  "metadata": {
    "colab": {
      "provenance": [],
      "authorship_tag": "ABX9TyNccsZ166kL49U1YnLOf7E8",
      "include_colab_link": true
    },
    "kernelspec": {
      "name": "python3",
      "display_name": "Python 3"
    },
    "language_info": {
      "name": "python"
    }
  },
  "cells": [
    {
      "cell_type": "markdown",
      "metadata": {
        "id": "view-in-github",
        "colab_type": "text"
      },
      "source": [
        "<a href=\"https://colab.research.google.com/github/maddalayasaswini/TechLeadsAssignments/blob/main/Assignment_8.ipynb\" target=\"_parent\"><img src=\"https://colab.research.google.com/assets/colab-badge.svg\" alt=\"Open In Colab\"/></a>"
      ]
    },
    {
      "cell_type": "markdown",
      "source": [
        "# Modular Programming"
      ],
      "metadata": {
        "id": "jEzHJiRpL3gG"
      }
    },
    {
      "cell_type": "markdown",
      "source": [
        "Modular Programming is a practice that is used to divide a program into separate,smaller and more manageable pieces or modules.Each module consists of some specific task and functionality.It is used to easily understand,develop,and maintain the code.In simple words,modular programming allows reusability and collaboration among developers.The key principles of modular programming are modularity,ensapculation and abstraction."
      ],
      "metadata": {
        "id": "uobdj84hL7ZK"
      }
    },
    {
      "cell_type": "markdown",
      "source": [
        "# Importing Modules and Different Import Statements:"
      ],
      "metadata": {
        "id": "yANUI76iL98E"
      }
    },
    {
      "cell_type": "markdown",
      "source": [
        "Modules are the separate file containing python code.We can use them in our programs when we want to access functions,classes and variables defined in those modules.So we have to import them first using import statements.We have various import statements.They are,\n",
        "\n",
        "\n",
        "\n",
        "\n",
        "***import module_name:*** Imports the entire module.\n",
        "\n",
        "\n",
        "\n",
        "\n",
        "\n",
        "***from module_name import object_name:*** Imports specific objects (functions, classes, or variables) from the module.\n",
        "\n",
        "\n",
        "\n",
        "\n",
        "\n",
        "***import module_name as alias:*** Imports a module with an alias, allowing you to use a shorter name.\n",
        "\n",
        "\n",
        "\n",
        "\n",
        "\n",
        " ***from module_name import**** Imports all objects from the module (not recommended, as it can lead to naming conflicts)."
      ],
      "metadata": {
        "id": "hkSMmo1AMCMn"
      }
    },
    {
      "cell_type": "code",
      "source": [
        "import numpy as np"
      ],
      "metadata": {
        "id": "ZdS7-ZETMIpO"
      },
      "execution_count": null,
      "outputs": []
    },
    {
      "cell_type": "code",
      "execution_count": null,
      "metadata": {
        "id": "WOf_-DwwL21F"
      },
      "outputs": [],
      "source": [
        "import math"
      ]
    },
    {
      "cell_type": "markdown",
      "source": [
        "Example 1:\n",
        "\n",
        "\n",
        "Here we are importing math module and using the sqrt function to print the square root of a number."
      ],
      "metadata": {
        "id": "WET8tnawMLpQ"
      }
    },
    {
      "cell_type": "code",
      "source": [
        "import math\n",
        "result=math.sqrt(36)\n",
        "print(result)"
      ],
      "metadata": {
        "colab": {
          "base_uri": "https://localhost:8080/"
        },
        "id": "PiKJkCVCMOTN",
        "outputId": "9a58ca17-4004-4806-c323-a09bd630699f"
      },
      "execution_count": null,
      "outputs": [
        {
          "output_type": "stream",
          "name": "stdout",
          "text": [
            "6.0\n"
          ]
        }
      ]
    },
    {
      "cell_type": "markdown",
      "source": [
        "Example 2:\n",
        "\n",
        "\n",
        "\n",
        "Here we are importing math module and using the pow function to find the result when we give power to a number."
      ],
      "metadata": {
        "id": "aOQrOwNvMQXf"
      }
    },
    {
      "cell_type": "code",
      "source": [
        "import math\n",
        "result=math.pow(2,3)\n",
        "print(result)"
      ],
      "metadata": {
        "colab": {
          "base_uri": "https://localhost:8080/"
        },
        "id": "0avdDoIRMSJ_",
        "outputId": "c3eaeb36-bef4-4658-f18b-210b2021e504"
      },
      "execution_count": null,
      "outputs": [
        {
          "output_type": "stream",
          "name": "stdout",
          "text": [
            "8.0\n"
          ]
        }
      ]
    },
    {
      "cell_type": "markdown",
      "source": [
        "# Types of Modules:"
      ],
      "metadata": {
        "id": "38g1cq5xND62"
      }
    },
    {
      "cell_type": "markdown",
      "source": [
        "\n",
        "\n",
        "There are different types of modules in Python,each module focuses on specific task."
      ],
      "metadata": {
        "id": "gepTI8MoMUKk"
      }
    },
    {
      "cell_type": "markdown",
      "source": [
        " 1.Built-in Modules:\n",
        "\n",
        " These are modules that come with Python and provide various functionalities. Examples are math, random, datetime, and os."
      ],
      "metadata": {
        "id": "gOs41BXhMXMF"
      }
    },
    {
      "cell_type": "code",
      "source": [
        "import datetime\n",
        "current_datetime = datetime.datetime.now()\n",
        "print(\"Current Date and Time:\", current_datetime)"
      ],
      "metadata": {
        "colab": {
          "base_uri": "https://localhost:8080/"
        },
        "id": "jogV5WKqMazq",
        "outputId": "e1eb7aa1-5abb-4811-d839-6635d46c1fa1"
      },
      "execution_count": null,
      "outputs": [
        {
          "output_type": "stream",
          "name": "stdout",
          "text": [
            "Current Date and Time: 2023-10-10 15:27:38.773964\n"
          ]
        }
      ]
    },
    {
      "cell_type": "markdown",
      "source": [
        "2.Standard Library Modules:\n",
        "\n",
        "These are modules that are part of the Python Standard Library but need to be imported explicitly. Examples are json, urllib, and csv."
      ],
      "metadata": {
        "id": "aNaxQkv6Mdli"
      }
    },
    {
      "cell_type": "code",
      "source": [
        "import csv\n",
        "data_to_write = [\n",
        "    [\"Name\", \"Age\", \"City\"],\n",
        "    [\"Priya\", 19, \"West Godavari\"],\n",
        "    [\"Surya\", 19, \"Bhimavaram\"],\n",
        "    [\"Komali\", 16, \"Eluru\"]\n",
        "]\n",
        "with open(\"example.csv\", mode=\"w\", newline=\"\") as csv_file:\n",
        "    writer = csv.writer(csv_file)\n",
        "    for row in data_to_write:\n",
        "        writer.writerow(row)\n",
        "print(\"Data written to example.csv\")\n",
        "with open(\"example.csv\", mode=\"r\") as csv_file:\n",
        "    reader = csv.reader(csv_file)\n",
        "    for row in reader:\n",
        "        print(row)"
      ],
      "metadata": {
        "colab": {
          "base_uri": "https://localhost:8080/"
        },
        "id": "NXF7pgcVMgdp",
        "outputId": "a0775d54-dacb-496a-9551-347a178d588a"
      },
      "execution_count": null,
      "outputs": [
        {
          "output_type": "stream",
          "name": "stdout",
          "text": [
            "Data written to example.csv\n",
            "['Name', 'Age', 'City']\n",
            "['Priya', '19', 'West Godavari']\n",
            "['Surya', '19', 'Bhimavaram']\n",
            "['Komali', '16', 'Eluru']\n"
          ]
        }
      ]
    },
    {
      "cell_type": "markdown",
      "source": [
        "3.Third-Party Modules:\n",
        "\n",
        " These are modules developed by the Python community or other developers and can be installed using package managers like pip. Examples include numpy, pandas, and matplotlib."
      ],
      "metadata": {
        "id": "eTJ_WZHYMmqI"
      }
    },
    {
      "cell_type": "code",
      "source": [
        "import numpy as np\n",
        "arr = np.array([1, 2, 3, 4, 5])\n",
        "print(\"NumPy Array:\", arr)\n",
        "sum = np.sum(arr)\n",
        "mean = np.mean(arr)\n",
        "max = np.max(arr)\n",
        "min = np.min(arr)\n",
        "print(\"Sum:\", sum)\n",
        "print(\"Mean:\", mean)\n",
        "print(\"Max:\", max)\n",
        "print(\"Min:\", min)"
      ],
      "metadata": {
        "colab": {
          "base_uri": "https://localhost:8080/"
        },
        "id": "TRpteGkLMs7q",
        "outputId": "6bfebd78-64a3-4ca8-f296-96cf590d67e4"
      },
      "execution_count": null,
      "outputs": [
        {
          "output_type": "stream",
          "name": "stdout",
          "text": [
            "NumPy Array: [1 2 3 4 5]\n",
            "Sum: 15\n",
            "Mean: 3.0\n",
            "Max: 5\n",
            "Min: 1\n"
          ]
        }
      ]
    },
    {
      "cell_type": "markdown",
      "source": [
        "4.Custom Modules:\n",
        "\n",
        "These are modules created by you or your team to encapsulate reusable code and logic specific to your project."
      ],
      "metadata": {
        "id": "bo45dPFbM1lc"
      }
    },
    {
      "cell_type": "code",
      "source": [
        "def square(num):\n",
        "    \"\"\"Calculate the square of a number.\"\"\"\n",
        "    return num ** 2"
      ],
      "metadata": {
        "id": "YoT88iqAM3hb"
      },
      "execution_count": null,
      "outputs": []
    }
  ]
}