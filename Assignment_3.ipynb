{
  "nbformat": 4,
  "nbformat_minor": 0,
  "metadata": {
    "colab": {
      "provenance": [],
      "collapsed_sections": [
        "-zawQ6Kq2F4N"
      ],
      "authorship_tag": "ABX9TyO+5FsRBOGnIUsDugor3N5I",
      "include_colab_link": true
    },
    "kernelspec": {
      "name": "python3",
      "display_name": "Python 3"
    },
    "language_info": {
      "name": "python"
    }
  },
  "cells": [
    {
      "cell_type": "markdown",
      "metadata": {
        "id": "view-in-github",
        "colab_type": "text"
      },
      "source": [
        "<a href=\"https://colab.research.google.com/github/maddalayasaswini/TechLeadsAssignments/blob/main/Assignment_3.ipynb\" target=\"_parent\"><img src=\"https://colab.research.google.com/assets/colab-badge.svg\" alt=\"Open In Colab\"/></a>"
      ]
    },
    {
      "cell_type": "markdown",
      "source": [
        "*STRINGS*"
      ],
      "metadata": {
        "id": "CM6bFpU1tDbn"
      }
    },
    {
      "cell_type": "markdown",
      "source": [
        "Strings in python are surrounded by either single quotation marks, or double quotation marks.\n",
        "\n",
        "can also be (''' hi ''') (\"\"\" hi \"\"\")"
      ],
      "metadata": {
        "id": "ANR-JsQYtGgH"
      }
    },
    {
      "cell_type": "code",
      "source": [
        "a = \"hi Yassu\"\n",
        "print(a)"
      ],
      "metadata": {
        "colab": {
          "base_uri": "https://localhost:8080/"
        },
        "id": "wwpQ7bRKtdHF",
        "outputId": "cccabd00-f65c-4bb6-8fd1-eb1c5a506cff"
      },
      "execution_count": null,
      "outputs": [
        {
          "output_type": "stream",
          "name": "stdout",
          "text": [
            "hi Yassu\n"
          ]
        }
      ]
    },
    {
      "cell_type": "code",
      "source": [
        "a = \"Hello, Yasaswini!\"\n",
        "print(a[1])   #in arrays"
      ],
      "metadata": {
        "colab": {
          "base_uri": "https://localhost:8080/"
        },
        "id": "kBp70Fbhtg4D",
        "outputId": "6d166943-dc3b-4dfb-a536-f911a739fa0d"
      },
      "execution_count": null,
      "outputs": [
        {
          "output_type": "stream",
          "name": "stdout",
          "text": [
            "e\n"
          ]
        }
      ]
    },
    {
      "cell_type": "code",
      "source": [
        "a = \"Hello, Yasaswini!\"\n",
        "print(len(a))   #lenght if the string"
      ],
      "metadata": {
        "colab": {
          "base_uri": "https://localhost:8080/"
        },
        "id": "VfsslDC_tlpk",
        "outputId": "5d602b48-fbc7-45c2-e457-4d9f11985144"
      },
      "execution_count": null,
      "outputs": [
        {
          "output_type": "stream",
          "name": "stdout",
          "text": [
            "17\n"
          ]
        }
      ]
    },
    {
      "cell_type": "code",
      "source": [
        "a = \"I am the best!\"\n",
        "print(\"best\" in a)          #checking a string"
      ],
      "metadata": {
        "colab": {
          "base_uri": "https://localhost:8080/"
        },
        "id": "8zaOBq7gtrZ_",
        "outputId": "4bbde74e-a613-4077-95a4-4c4701902322"
      },
      "execution_count": null,
      "outputs": [
        {
          "output_type": "stream",
          "name": "stdout",
          "text": [
            "True\n"
          ]
        }
      ]
    },
    {
      "cell_type": "code",
      "source": [
        "a = \"Hello,Yasaswini!\"\n",
        "print(a[1])           #2nd item of the list\n",
        "print(a[-1])          #refers to the last items\n",
        "print(a[2:3])         #Range of indexes\n",
        "print(a[:2])\n",
        "print(a[1:])\n",
        "print(a[-3:-1])"
      ],
      "metadata": {
        "colab": {
          "base_uri": "https://localhost:8080/"
        },
        "id": "Baq4CrpbuNsg",
        "outputId": "caf19aa7-68ba-4424-bff7-9b0bd7bfb811"
      },
      "execution_count": null,
      "outputs": [
        {
          "output_type": "stream",
          "name": "stdout",
          "text": [
            "e\n",
            "!\n",
            "l\n",
            "He\n",
            "ello,Yasaswini!\n",
            "ni\n"
          ]
        }
      ]
    },
    {
      "cell_type": "markdown",
      "source": [
        "Modify Strings"
      ],
      "metadata": {
        "id": "LfJ8YJrsvHY_"
      }
    },
    {
      "cell_type": "code",
      "source": [
        "a = \"Hello,Yasaswini!\"\n",
        "print(a.upper())          #uppercase\n",
        "b = \"Hello,Yasaswini!\"\n",
        "print(b.lower())          #lowercase\n",
        "c = \"Hello,Yasaswini!\"\n",
        "print(c.strip())          #removes white space\n",
        "d = \"Hello,Yasaswini!\"\n",
        "print(d.replace(\"i\", \"a\"))         #replaces a string with another string\n",
        "e = \"Hello,Yasaswini!\"\n",
        "print(e.split(\",\"))       #splits the string into substrings"
      ],
      "metadata": {
        "colab": {
          "base_uri": "https://localhost:8080/"
        },
        "id": "qnpjnsmuvMYU",
        "outputId": "da66c821-8233-453d-c0bd-2540f57e7181"
      },
      "execution_count": null,
      "outputs": [
        {
          "output_type": "stream",
          "name": "stdout",
          "text": [
            "HELLO,YASASWINI!\n",
            "hello,yasaswini!\n",
            "Hello,Yasaswini!\n",
            "Hello,Yasaswana!\n",
            "['Hello', 'Yasaswini!']\n"
          ]
        }
      ]
    },
    {
      "cell_type": "code",
      "source": [
        "family = \" I LOVE YOU DADDY,AMMA,TAMBI. \"\n",
        "i = int(input(\"repeat:\"))\n",
        "print(family*i)"
      ],
      "metadata": {
        "colab": {
          "base_uri": "https://localhost:8080/"
        },
        "id": "LtlVi8hJvTU1",
        "outputId": "5c06f461-820c-4625-f774-176ca37b8566"
      },
      "execution_count": null,
      "outputs": [
        {
          "output_type": "stream",
          "name": "stdout",
          "text": [
            "repeat:6\n",
            " I LOVE YOU DADDY,AMMA,TAMBI.  I LOVE YOU DADDY,AMMA,TAMBI.  I LOVE YOU DADDY,AMMA,TAMBI.  I LOVE YOU DADDY,AMMA,TAMBI.  I LOVE YOU DADDY,AMMA,TAMBI.  I LOVE YOU DADDY,AMMA,TAMBI. \n"
          ]
        }
      ]
    },
    {
      "cell_type": "code",
      "source": [
        "value = \"yasaswini\"\n",
        "print(\"value: \",value)\n",
        "new_value = input(\"assign new value: \")\n",
        "print(\"new value: \",new_value)                       #assigning new values"
      ],
      "metadata": {
        "colab": {
          "base_uri": "https://localhost:8080/"
        },
        "id": "qH3lFOQSyh37",
        "outputId": "785eb9be-9a74-4a69-da3d-36b1a1db2fd9"
      },
      "execution_count": null,
      "outputs": [
        {
          "output_type": "stream",
          "name": "stdout",
          "text": [
            "value:  yasaswini\n",
            "assign new value: yassu\n",
            "new value:  yassu\n"
          ]
        }
      ]
    },
    {
      "cell_type": "code",
      "source": [
        "for x in \"Yasaswini\" :\n",
        "  print(x)          #loop through a string"
      ],
      "metadata": {
        "colab": {
          "base_uri": "https://localhost:8080/"
        },
        "id": "Wx8JgVH0yle5",
        "outputId": "4db9a058-67e5-43ea-dcc4-8fb986a89d7c"
      },
      "execution_count": null,
      "outputs": [
        {
          "output_type": "stream",
          "name": "stdout",
          "text": [
            "Y\n",
            "a\n",
            "s\n",
            "a\n",
            "s\n",
            "w\n",
            "i\n",
            "n\n",
            "i\n"
          ]
        }
      ]
    },
    {
      "cell_type": "code",
      "source": [
        "a = \"Srinivas\"\n",
        "b = \"Laxmi\"\n",
        "c = \"Yasaswini\"\n",
        "d = \"Dhanush Kumar\"\n",
        "print(a+\" \"+b+\" \"+c+\" \"+d)     #string concatanation"
      ],
      "metadata": {
        "colab": {
          "base_uri": "https://localhost:8080/"
        },
        "id": "0BWql-Fv1Pcd",
        "outputId": "c2a01f67-1475-4d85-d86c-1924f0c69ad0"
      },
      "execution_count": null,
      "outputs": [
        {
          "output_type": "stream",
          "name": "stdout",
          "text": [
            "Srinivas Laxmi Yasaswini Dhanush Kumar\n"
          ]
        }
      ]
    },
    {
      "cell_type": "markdown",
      "source": [
        "# String Methods"
      ],
      "metadata": {
        "id": "7igFD-DO2RH3"
      }
    },
    {
      "cell_type": "code",
      "source": [
        "a = \"I am Studing in Kiet Engineering College\"\n",
        "print(a.capitalize())          #Converts the first character to upper case\n",
        "print(a.casefold())          #Converts string into lower case\n",
        "print(a.encode())          #Returns an encoded version of the string\n",
        "print(a.expandtabs())        #Sets the tab size of the string\n",
        "print(a.center(6))          #Returns a centered string\n",
        "b = a.count(\"Kiet\")\n",
        "print(b)          #Returns the number of times a specified value occurs in a string\n",
        "b = a.endswith(\"College\")\n",
        "print(b)          #Returns true if the string ends with the specified value\n",
        "b = a.endswith(\"I\")\n",
        "print(b)          #Returns true if the string starts with the specified value\n",
        "b = a.find(\"College\")\n",
        "print(b)        #Searches the string for a specified value and returns the position of where it was found\n",
        "b = a.find(\"College\")\n",
        "print(b)          #Searches the string for a specified value and returns the position of where it was found\n",
        "print(a.isalnum())        #Returns True if all characters in the string are alphanumeric\n",
        "print(a.swapcase())          #Returns the string in upper to lower & lower to upper"
      ],
      "metadata": {
        "colab": {
          "base_uri": "https://localhost:8080/"
        },
        "id": "bsufydsx2c5H",
        "outputId": "2314b778-3074-4a0c-9d45-f6f1f1c77452"
      },
      "execution_count": null,
      "outputs": [
        {
          "output_type": "stream",
          "name": "stdout",
          "text": [
            "I am studing in kiet engineering college\n",
            "i am studing in kiet engineering college\n",
            "b'I am Studing in Kiet Engineering College'\n",
            "I am Studing in Kiet Engineering College\n",
            "I am Studing in Kiet Engineering College\n",
            "1\n",
            "True\n",
            "False\n",
            "33\n",
            "33\n",
            "False\n",
            "i AM sTUDING IN kIET eNGINEERING cOLLEGE\n"
          ]
        }
      ]
    },
    {
      "cell_type": "code",
      "source": [
        "a = \"04092003\"\n",
        "print(a.isascii())          #Converts string into lower case\n",
        "print(a.isdecimal())          #Returns an encoded version of the string\n",
        "print(a.isdigit())        #Sets the tab size of the string\n",
        "print(a.isidentifier())          #Returns a centered string\n",
        "print(a.isprintable())        #checks wheater the string will be printed or not\n",
        "print(a.isidentifier())      #checks wheater the string is identifier or not"
      ],
      "metadata": {
        "id": "Akr50P1G8Rp_",
        "colab": {
          "base_uri": "https://localhost:8080/"
        },
        "outputId": "187c111c-f6cf-432a-dcb9-2c1de96a7266"
      },
      "execution_count": null,
      "outputs": [
        {
          "output_type": "stream",
          "name": "stdout",
          "text": [
            "True\n",
            "True\n",
            "True\n",
            "False\n",
            "True\n",
            "False\n"
          ]
        }
      ]
    },
    {
      "cell_type": "code",
      "source": [
        "a = \"yasaswini\"\n",
        "print(a.isalpha())           #checks wheater the string is alphabet or not\n",
        "print(a.islower())            #checks wheater the string is lower or not\n",
        "print(a.upper())            #results the string in upper"
      ],
      "metadata": {
        "colab": {
          "base_uri": "https://localhost:8080/"
        },
        "id": "7fQMqEGJDi6H",
        "outputId": "25805163-5c5e-41a6-cde3-222b171339d4"
      },
      "execution_count": null,
      "outputs": [
        {
          "output_type": "stream",
          "name": "stdout",
          "text": [
            "True\n",
            "True\n",
            "YASASWINI\n"
          ]
        }
      ]
    },
    {
      "cell_type": "code",
      "source": [
        "a = \" HELLO , I AM YASASWINI \"\n",
        "print(a.istitle())          #checks wheater the string is title or not\n",
        "print(a.isupper())          #checks wheater the string is upper or not\n",
        "print(a.lower())            #results the string in lower\n",
        "print(a.rsplit(\", \"))     #returns list"
      ],
      "metadata": {
        "colab": {
          "base_uri": "https://localhost:8080/"
        },
        "id": "Sby_P1D1EsXW",
        "outputId": "41c507c8-902a-4491-cc0f-be0924565237"
      },
      "execution_count": null,
      "outputs": [
        {
          "output_type": "stream",
          "name": "stdout",
          "text": [
            "False\n",
            "True\n",
            " hello , i am yasaswini \n",
            "[' HELLO ', 'I AM YASASWINI ']\n"
          ]
        }
      ]
    },
    {
      "cell_type": "code",
      "source": [
        "a = \"  \"          #ex: \"   \" sould be white space\n",
        "print(a.isspace())"
      ],
      "metadata": {
        "colab": {
          "base_uri": "https://localhost:8080/"
        },
        "id": "KTQFQCT1FLsF",
        "outputId": "5893499a-c8c4-4bde-ef79-e2c09d5be4db"
      },
      "execution_count": null,
      "outputs": [
        {
          "output_type": "stream",
          "name": "stdout",
          "text": [
            "True\n"
          ]
        }
      ]
    },
    {
      "cell_type": "code",
      "source": [
        "family = (\"yassu\",\"laxmi\",\"srinivas\")\n",
        "print(\",\".join(family))           #joins the string with the given ...."
      ],
      "metadata": {
        "colab": {
          "base_uri": "https://localhost:8080/"
        },
        "id": "S9vUh9-tFVTD",
        "outputId": "db5bc207-44a2-4082-df4b-6923a951d0f4"
      },
      "execution_count": null,
      "outputs": [
        {
          "output_type": "stream",
          "name": "stdout",
          "text": [
            "yassu,laxmi,srinivas\n"
          ]
        }
      ]
    },
    {
      "cell_type": "code",
      "source": [
        "a = \"Yasaswini\"\n",
        "b = a.ljust(20)                 #20 whitespaces will be provied\n",
        "print(b,\"Is in Kiet college\")\n",
        "x = b.strip()                   #joins the string\n",
        "print(\"I am \",x,\"is in kiet college\")"
      ],
      "metadata": {
        "colab": {
          "base_uri": "https://localhost:8080/"
        },
        "id": "CFQtRMfZF8N7",
        "outputId": "b7713445-04fb-4f3e-b26c-f02027ff0f3b"
      },
      "execution_count": null,
      "outputs": [
        {
          "output_type": "stream",
          "name": "stdout",
          "text": [
            "Yasaswini            Is in Kiet college\n",
            "I am  Yasaswini is in kiet college\n"
          ]
        }
      ]
    },
    {
      "cell_type": "code",
      "source": [
        "a = \"     Yasaswini     \"\n",
        "b = a.lstrip()                   #right side space will be removed\n",
        "print(\"I am \",b,\"is in kiet college\")"
      ],
      "metadata": {
        "colab": {
          "base_uri": "https://localhost:8080/"
        },
        "id": "IsxmvpAYGzEK",
        "outputId": "19a8df0f-705d-46e0-a051-a82acf0d2e65"
      },
      "execution_count": null,
      "outputs": [
        {
          "output_type": "stream",
          "name": "stdout",
          "text": [
            "I am  Yasaswini      is in kiet college\n"
          ]
        }
      ]
    },
    {
      "cell_type": "code",
      "source": [
        "a = \" HELLO,\\nI AM YASASWINI \"\n",
        "print(a.splitlines())     #breaks & returns the string"
      ],
      "metadata": {
        "colab": {
          "base_uri": "https://localhost:8080/"
        },
        "id": "AcBVOj4kJlS-",
        "outputId": "a49df9df-17a6-4c61-c476-b30b2d0f3825"
      },
      "execution_count": null,
      "outputs": [
        {
          "output_type": "stream",
          "name": "stdout",
          "text": [
            "[' HELLO,', 'I AM YASASWINI ']\n"
          ]
        }
      ]
    },
    {
      "cell_type": "markdown",
      "source": [
        "# String Formating"
      ],
      "metadata": {
        "id": "-zawQ6Kq2F4N"
      }
    },
    {
      "cell_type": "markdown",
      "source": [
        "\n",
        "\n",
        "we can combine strings and numbers by using the format() method!\n",
        "\n",
        "The format() method takes the passed arguments, formats them, and places them in the string where the placeholders {} are...**bold text**"
      ],
      "metadata": {
        "id": "yqF5zoZU1ket"
      }
    },
    {
      "cell_type": "code",
      "source": [
        "age = 20\n",
        "txt = \"I am Yasaswini, and I am {}\"\n",
        "print(txt.format(age))"
      ],
      "metadata": {
        "colab": {
          "base_uri": "https://localhost:8080/"
        },
        "id": "xyvPeV861ooJ",
        "outputId": "a9296f70-c9ee-478f-ba8e-103e299d4a9a"
      },
      "execution_count": null,
      "outputs": [
        {
          "output_type": "stream",
          "name": "stdout",
          "text": [
            "I am Yasaswini, and I am 20\n"
          ]
        }
      ]
    },
    {
      "cell_type": "code",
      "source": [
        "Age = 20\n",
        "DOB = 2023\n",
        "Name = \"Yasaswini\"\n",
        "myorder = \"I am {2} born on {1} now I am {0} years old\"\n",
        "print(myorder.format( Age, DOB,Name))"
      ],
      "metadata": {
        "colab": {
          "base_uri": "https://localhost:8080/"
        },
        "id": "D-0FdI-U2LMk",
        "outputId": "8f804263-3709-4dcb-cd36-6b7e7937d914"
      },
      "execution_count": null,
      "outputs": [
        {
          "output_type": "stream",
          "name": "stdout",
          "text": [
            "I am Yasaswini born on 2023 now I am 20 years old\n"
          ]
        }
      ]
    },
    {
      "cell_type": "markdown",
      "source": [
        "Escape Characters\n",
        "\n",
        "To insert characters that are illegal in a string, use an escape character.\n",
        "\n",
        "An escape character is a backslash \\ followed by the character you want to insert."
      ],
      "metadata": {
        "id": "1nJqT-nb1uRS"
      }
    },
    {
      "cell_type": "code",
      "source": [
        "a = 'I\\'m Yasaswini'             #(\\)is used before (')\n",
        "print(a)\n",
        "b = 'Hello,Yasaswini\\\\(greeting)'  #to need (\\)\n",
        "print(b)\n",
        "c = 'Hello \\n Yasaswini'          #to make line by line\n",
        "print(c)\n",
        "d = 'Hello \\r Yasaswini'          #to remove front characters\n",
        "print(d)\n",
        "e = 'Hello\\tYasaswini'          #to create space\n",
        "print(e)\n",
        "f = 'Hello  \\bYasaswini'          #to remove black space\n",
        "print(f)\n",
        "g = \"\\110\\145\\154\\154\\157\"         #to form a character for its octal value\n",
        "print(g)\n",
        "h = \"\\x48\\x65\\x6c\\x6c\\x6f\"         ##to form a character for its hexa value\n",
        "print(h)"
      ],
      "metadata": {
        "colab": {
          "base_uri": "https://localhost:8080/"
        },
        "id": "GxoHWdqe1yob",
        "outputId": "bfd28497-d935-454f-d4d1-5c006b25b099"
      },
      "execution_count": null,
      "outputs": [
        {
          "output_type": "stream",
          "name": "stdout",
          "text": [
            "I'm Yasaswini\n",
            "Hello,Yasaswini\\(greeting)\n",
            "Hello \n",
            " Yasaswini\n",
            "Hello \r Yasaswini\n",
            "Hello\tYasaswini\n",
            "Hello  \bYasaswini\n",
            "Hello\n",
            "Hello\n"
          ]
        }
      ]
    }
  ]
}