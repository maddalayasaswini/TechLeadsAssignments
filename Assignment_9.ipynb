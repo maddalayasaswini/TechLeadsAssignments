{
  "nbformat": 4,
  "nbformat_minor": 0,
  "metadata": {
    "colab": {
      "provenance": [],
      "include_colab_link": true
    },
    "kernelspec": {
      "name": "python3",
      "display_name": "Python 3"
    },
    "language_info": {
      "name": "python"
    }
  },
  "cells": [
    {
      "cell_type": "markdown",
      "metadata": {
        "id": "view-in-github",
        "colab_type": "text"
      },
      "source": [
        "<a href=\"https://colab.research.google.com/github/maddalayasaswini/TechLeadsAssignments/blob/main/Assignment_9.ipynb\" target=\"_parent\"><img src=\"https://colab.research.google.com/assets/colab-badge.svg\" alt=\"Open In Colab\"/></a>"
      ]
    },
    {
      "cell_type": "markdown",
      "source": [
        "**FILE HANDLING**\n",
        "\n",
        "1. File handling is an important part of any web application.\n",
        "\n",
        "2. The key function for working with files in Python is the open() function.\n",
        "\n",
        "3. The open() function takes two parameters; filename, and mode\n",
        "\n",
        "\n",
        "There are four different methods (modes) for opening a file:\n",
        "\n",
        "**\"r\"** - Read - Default value. Opens a file for reading, error if the file does not exist\n",
        "\n",
        "**\"a\"** - Append - Opens a file for appending, creates the file if it does not exist\n",
        "\n",
        "**\"w\"** - Write - Opens a file for writing, creates the file if it does not exist\n",
        "\n",
        "**\"x\"** - Create - Creates the specified file, returns an error if the file exists\n",
        "\n",
        "\n",
        "\n",
        "\n",
        "In addition you can specify if the file should be handled as binary or text mode\n",
        "\n",
        "**\"t\"** - Text - Default value. Text mode\n",
        "\n",
        "**\"b\"** - Binary - Binary mode (e.g. images)"
      ],
      "metadata": {
        "id": "flBrLIx_6df7"
      }
    },
    {
      "cell_type": "markdown",
      "source": [
        "\n",
        "\n",
        "---\n",
        "\n"
      ],
      "metadata": {
        "id": "M2yj0dnl77NL"
      }
    },
    {
      "cell_type": "markdown",
      "source": [
        "**Syntax**\n",
        "\n",
        "To open a file for reading it is enough to specify the name of the file:"
      ],
      "metadata": {
        "id": "JJKbeG7h7w1T"
      }
    },
    {
      "cell_type": "markdown",
      "source": [
        "\n",
        "\n",
        "---\n",
        "\n"
      ],
      "metadata": {
        "id": "nlKo9xGP76Nf"
      }
    },
    {
      "cell_type": "code",
      "source": [
        "f = open(\"demofile.txt\")"
      ],
      "metadata": {
        "id": "N5az1knd799Y",
        "outputId": "6bc127e6-26d9-4b47-93de-77c8d719b228",
        "colab": {
          "base_uri": "https://localhost:8080/",
          "height": 175
        }
      },
      "execution_count": null,
      "outputs": [
        {
          "output_type": "error",
          "ename": "FileNotFoundError",
          "evalue": "ignored",
          "traceback": [
            "\u001b[0;31m---------------------------------------------------------------------------\u001b[0m",
            "\u001b[0;31mFileNotFoundError\u001b[0m                         Traceback (most recent call last)",
            "\u001b[0;32m<ipython-input-1-979141717ea2>\u001b[0m in \u001b[0;36m<cell line: 1>\u001b[0;34m()\u001b[0m\n\u001b[0;32m----> 1\u001b[0;31m \u001b[0mf\u001b[0m \u001b[0;34m=\u001b[0m \u001b[0mopen\u001b[0m\u001b[0;34m(\u001b[0m\u001b[0;34m\"demofile.txt\"\u001b[0m\u001b[0;34m)\u001b[0m\u001b[0;34m\u001b[0m\u001b[0;34m\u001b[0m\u001b[0m\n\u001b[0m",
            "\u001b[0;31mFileNotFoundError\u001b[0m: [Errno 2] No such file or directory: 'demofile.txt'"
          ]
        }
      ]
    },
    {
      "cell_type": "code",
      "source": [
        "#The code above is the same as:\n",
        "f = open(\"demofile.txt\", \"rt\")\n",
        "#Because \"r\" for read, and \"t\" for text are the default values, you do not need to specify them\n"
      ],
      "metadata": {
        "id": "LcxJcSwL8GiJ"
      },
      "execution_count": null,
      "outputs": []
    },
    {
      "cell_type": "markdown",
      "source": [
        "\n",
        "\n",
        "---\n",
        "\n",
        "\n",
        "\n",
        "---\n",
        "\n"
      ],
      "metadata": {
        "id": "dIQ7e9uL88iW"
      }
    },
    {
      "cell_type": "markdown",
      "source": [
        "To open the file, use the built-in open() function.\n",
        "\n",
        "The open() function returns a file object, which has a read() method for reading the content of the file:"
      ],
      "metadata": {
        "id": "bKpOG8Jd89-G"
      }
    },
    {
      "cell_type": "code",
      "source": [
        "f = open(\"demofile.txt\", \"r\")\n",
        "print(f.read())"
      ],
      "metadata": {
        "colab": {
          "base_uri": "https://localhost:8080/",
          "height": 193
        },
        "id": "yX1lMbXO9NvV",
        "outputId": "fb4a12d3-1cad-4cef-b42f-9057b0953be4"
      },
      "execution_count": null,
      "outputs": [
        {
          "output_type": "error",
          "ename": "FileNotFoundError",
          "evalue": "ignored",
          "traceback": [
            "\u001b[0;31m---------------------------------------------------------------------------\u001b[0m",
            "\u001b[0;31mFileNotFoundError\u001b[0m                         Traceback (most recent call last)",
            "\u001b[0;32m<ipython-input-2-304912380861>\u001b[0m in \u001b[0;36m<cell line: 1>\u001b[0;34m()\u001b[0m\n\u001b[0;32m----> 1\u001b[0;31m \u001b[0mf\u001b[0m \u001b[0;34m=\u001b[0m \u001b[0mopen\u001b[0m\u001b[0;34m(\u001b[0m\u001b[0;34m\"demofile.txt\"\u001b[0m\u001b[0;34m,\u001b[0m \u001b[0;34m\"r\"\u001b[0m\u001b[0;34m)\u001b[0m\u001b[0;34m\u001b[0m\u001b[0;34m\u001b[0m\u001b[0m\n\u001b[0m\u001b[1;32m      2\u001b[0m \u001b[0mprint\u001b[0m\u001b[0;34m(\u001b[0m\u001b[0mf\u001b[0m\u001b[0;34m.\u001b[0m\u001b[0mread\u001b[0m\u001b[0;34m(\u001b[0m\u001b[0;34m)\u001b[0m\u001b[0;34m)\u001b[0m\u001b[0;34m\u001b[0m\u001b[0;34m\u001b[0m\u001b[0m\n",
            "\u001b[0;31mFileNotFoundError\u001b[0m: [Errno 2] No such file or directory: 'demofile.txt'"
          ]
        }
      ]
    },
    {
      "cell_type": "markdown",
      "source": [
        "By default the read() method returns the whole text, but you can also specify how many characters you want to return"
      ],
      "metadata": {
        "id": "PwXbWd_j9WoZ"
      }
    },
    {
      "cell_type": "code",
      "source": [
        "f = open(\"demofile.txt\", \"r\")\n",
        "print(f.read(5))"
      ],
      "metadata": {
        "id": "t1_xsI929XQo"
      },
      "execution_count": null,
      "outputs": []
    },
    {
      "cell_type": "code",
      "source": [
        "#You can return one line by using the readline() method:\n",
        "\n",
        "f = open(\"demofile.txt\", \"r\")\n",
        "print(f.readline())"
      ],
      "metadata": {
        "id": "UDZnjDT19dtZ"
      },
      "execution_count": null,
      "outputs": []
    },
    {
      "cell_type": "code",
      "source": [
        "#By calling readline() two times, you can read the two first lines:\n",
        "f = open(\"demofile.txt\", \"r\")\n",
        "print(f.readline())\n",
        "print(f.readline())"
      ],
      "metadata": {
        "id": "0nPE4cbI9jFw"
      },
      "execution_count": null,
      "outputs": []
    },
    {
      "cell_type": "code",
      "source": [
        "#By looping through the lines of the file, you can read the whole file, line by line:\n",
        "f = open(\"demofile.txt\", \"r\")\n",
        "for x in f:\n",
        "  print(x)\n"
      ],
      "metadata": {
        "id": "8lut1Bm59qdv"
      },
      "execution_count": null,
      "outputs": []
    },
    {
      "cell_type": "markdown",
      "source": [
        "**CLOSE FILE**"
      ],
      "metadata": {
        "id": "8x18wOaz92Pc"
      }
    },
    {
      "cell_type": "code",
      "source": [
        "#Close the file when you are finish with it:\n",
        "f = open(\"demofile.txt\", \"r\")\n",
        "print(f.readline())\n",
        "f.close()"
      ],
      "metadata": {
        "id": "DDIi2ykP9419"
      },
      "execution_count": null,
      "outputs": []
    },
    {
      "cell_type": "markdown",
      "source": [
        "**Write to an Existing File**\n",
        "\n",
        "To write to an existing file, you must add a parameter to the open() function:\n",
        "\n",
        "\"a\" - Append - will append to the end of the file\n",
        "\n",
        "\"w\" - Write - will overwrite any existing content\n",
        "\n",
        "\n",
        "the \"w\" method will overwrite the entire file."
      ],
      "metadata": {
        "id": "hGm9kKYO-DMs"
      }
    },
    {
      "cell_type": "markdown",
      "source": [
        "**Create a New File**\n",
        "\n",
        "To create a new file in Python, use the open() method, with one of the following parameters:\n",
        "\n",
        "\"x\" - Create - will create a file, returns an error if the file exist\n",
        "\n",
        "\"a\" - Append - will create a file if the specified file does not exist\n",
        "\n",
        "\"w\" - Write - will create a file if the specified file does not exist"
      ],
      "metadata": {
        "id": "6WCwBt4C-Uzb"
      }
    },
    {
      "cell_type": "code",
      "source": [
        "#Create a file called \"myfile.txt\":\n",
        "f = open(\"myfile.txt\", \"x\")"
      ],
      "metadata": {
        "id": "vbwhk_AN-ZwK"
      },
      "execution_count": null,
      "outputs": []
    },
    {
      "cell_type": "code",
      "source": [
        "#Create a new file if it does not exist\n",
        "f = open(\"myfile.txt\", \"w\")"
      ],
      "metadata": {
        "id": "eY4pTqsy-fnp"
      },
      "execution_count": null,
      "outputs": []
    },
    {
      "cell_type": "markdown",
      "source": [
        "**DELETE A FILE**\n",
        "To delete a file, you must import the OS module, and run its os.remove() function:"
      ],
      "metadata": {
        "id": "saB8DOAl-wvm"
      }
    },
    {
      "cell_type": "code",
      "source": [
        "#Remove the file \"demofile.txt\":\n",
        "import os\n",
        "os.remove(\"demofile.txt\")"
      ],
      "metadata": {
        "id": "FkLTrHtN-3aU"
      },
      "execution_count": null,
      "outputs": []
    },
    {
      "cell_type": "markdown",
      "source": [
        "**Check if File exist:**\n",
        "\n",
        "To avoid getting an error, you might want to check if the file exists before you try to delete it"
      ],
      "metadata": {
        "id": "p9xQGapT_B06"
      }
    },
    {
      "cell_type": "code",
      "source": [
        "#Check if file exists, then delete it\n",
        "import os\n",
        "if os.path.exists(\"demofile.txt\"):\n",
        "  os.remove(\"demofile.txt\")\n",
        "else:\n",
        "  print(\"The file does not exist\")\n"
      ],
      "metadata": {
        "id": "HVu1MyPq_LS0"
      },
      "execution_count": null,
      "outputs": []
    },
    {
      "cell_type": "markdown",
      "source": [
        "**Delete Folder**\n",
        "\n",
        "To delete an entire folder, use the os.rmdir() method"
      ],
      "metadata": {
        "id": "IaBjpri9_SeI"
      }
    },
    {
      "cell_type": "code",
      "source": [
        "#Remove the folder \"myfolder\"\n",
        "import os\n",
        "os.rmdir(\"myfolder\")\n",
        "#You can only remove empty folders"
      ],
      "metadata": {
        "id": "ZiEQ6OVS_ap9"
      },
      "execution_count": null,
      "outputs": []
    },
    {
      "cell_type": "markdown",
      "source": [
        "**USE OF FILE HANDLING **\n",
        "\n",
        "1. Reading Data from a File:\n",
        "2. Writing Data to a File:\n",
        "3. Appending Data to a File:\n",
        "4. Reading Line by Line:\n",
        "5. Error Handling:\n",
        "6. Closing Files:\n",
        "7. Creating and Deleting Files:\n"
      ],
      "metadata": {
        "id": "VIUCl4--AgMU"
      }
    },
    {
      "cell_type": "markdown",
      "source": [
        "**WHY WE NEED FILE HANDLING**\n",
        "\n",
        "File handling is a fundamental aspect of computer programming and software development for several important reasons:\n",
        "\n",
        "1. **Data Persistence**:\n",
        "2. **Data Input/Output**\n",
        "3. **Data Sharing**\n",
        "4. **Logging and Debugging**\n",
        "5. **Configuration Management**\n",
        "6. **Database Management**\n",
        "7. **Data Transformation**\n",
        "8. **Data Analysis**"
      ],
      "metadata": {
        "id": "Ki_KwIM4BNUK"
      }
    }
  ]
}