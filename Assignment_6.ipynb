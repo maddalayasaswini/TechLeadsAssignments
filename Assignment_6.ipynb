{
  "nbformat": 4,
  "nbformat_minor": 0,
  "metadata": {
    "colab": {
      "provenance": [],
      "authorship_tag": "ABX9TyPWb13R5Ct0Nq9eJGP8M676",
      "include_colab_link": true
    },
    "kernelspec": {
      "name": "python3",
      "display_name": "Python 3"
    },
    "language_info": {
      "name": "python"
    }
  },
  "cells": [
    {
      "cell_type": "markdown",
      "metadata": {
        "id": "view-in-github",
        "colab_type": "text"
      },
      "source": [
        "<a href=\"https://colab.research.google.com/github/maddalayasaswini/TechLeadsAssignments/blob/main/Assignment_6.ipynb\" target=\"_parent\"><img src=\"https://colab.research.google.com/assets/colab-badge.svg\" alt=\"Open In Colab\"/></a>"
      ]
    },
    {
      "cell_type": "markdown",
      "source": [
        "# Functions\n",
        "\n"
      ],
      "metadata": {
        "id": "H_oA0w30b5LH"
      }
    },
    {
      "cell_type": "markdown",
      "source": [
        "A function is a block of code which runs when it is called\n",
        "we can pass data,known as parameters, into a function. and a function can return data as a result."
      ],
      "metadata": {
        "id": "I12ROevtysjZ"
      }
    },
    {
      "cell_type": "markdown",
      "source": [
        "Creating function:\n",
        "       \n",
        "       In python the function is defined using def keyword"
      ],
      "metadata": {
        "id": "WaQAxzO7yz7W"
      }
    },
    {
      "cell_type": "code",
      "source": [
        " def my_function():\n",
        "  print(\"Hello from a function\")"
      ],
      "metadata": {
        "id": "sl63PVGc1tt6"
      },
      "execution_count": 1,
      "outputs": []
    },
    {
      "cell_type": "markdown",
      "source": [
        "Calling a function\n",
        "       \n",
        "      To call any function we use fuction name followed by parenthesis"
      ],
      "metadata": {
        "id": "_jN4SRdZzHXw"
      }
    },
    {
      "cell_type": "code",
      "source": [
        "def umbrella():\n",
        "  print(\"meow\")\n",
        "umbrella()"
      ],
      "metadata": {
        "colab": {
          "base_uri": "https://localhost:8080/"
        },
        "id": "b83ZHcie1ctF",
        "outputId": "55c4ecc7-4ef1-46e1-98fa-4423cda66a3e"
      },
      "execution_count": 2,
      "outputs": [
        {
          "output_type": "stream",
          "name": "stdout",
          "text": [
            "meow\n"
          ]
        }
      ]
    },
    {
      "cell_type": "markdown",
      "source": [
        "**ARGUMENTS**\n",
        "\n",
        "\n",
        "1. ANY  information can be passed into functions as arguments\n",
        "2. these are specified after function name,inside the paranthesis.\n",
        "3. many arguments can be passed but should be separated with comma\n",
        "4. arguments are used as args in python"
      ],
      "metadata": {
        "id": "6FAs3Y9b1ybV"
      }
    },
    {
      "cell_type": "code",
      "source": [
        "def bold(pin):\n",
        "  print(pin+\" drop silence\")\n",
        "bold(\"old\")"
      ],
      "metadata": {
        "colab": {
          "base_uri": "https://localhost:8080/"
        },
        "id": "-D03zZU-11SK",
        "outputId": "75df2195-1af1-4e7f-c02c-bb526842f7c4"
      },
      "execution_count": 3,
      "outputs": [
        {
          "output_type": "stream",
          "name": "stdout",
          "text": [
            "old drop silence\n"
          ]
        }
      ]
    },
    {
      "cell_type": "markdown",
      "source": [
        "**PARAMETERS OR ARGUMENTS?**\n",
        "\n",
        "\n",
        "*   These two terms are used for information passed into function.\n",
        "*   according to functions:\n",
        "\n",
        "     -> parameters are the variables listed inside the paranthesis in function definition\n",
        "\n",
        "     -> argument is the value that is sent to the function when it is called"
      ],
      "metadata": {
        "id": "_caNBk7W2PeQ"
      }
    },
    {
      "cell_type": "markdown",
      "source": [
        "**NUMBER OF ARGUMENTS:**\n",
        "\n",
        "\n",
        "> By default function should be called with correct no of arguments. if function expects 2 arguments , then we should call only two arguments"
      ],
      "metadata": {
        "id": "jZ0lVm2N2TTm"
      }
    },
    {
      "cell_type": "code",
      "source": [
        "def girl(python, language):\n",
        "  print(python+ \" \" + language)\n",
        "girl(\"high\", \"low\")"
      ],
      "metadata": {
        "colab": {
          "base_uri": "https://localhost:8080/"
        },
        "id": "Da_tNIoy2Vpp",
        "outputId": "18773bf7-d91d-4723-bbec-62022067b79b"
      },
      "execution_count": 4,
      "outputs": [
        {
          "output_type": "stream",
          "name": "stdout",
          "text": [
            "high low\n"
          ]
        }
      ]
    },
    {
      "cell_type": "markdown",
      "source": [
        "**ARBITARY ARGUMENTS(*args):**\n",
        "   \n",
        "*   when you dont know how many arguments to pass ,then add * before parameter name in the function definition. so when we do this the function receives tuple of arguments."
      ],
      "metadata": {
        "id": "J-EcjiYl2X7q"
      }
    },
    {
      "cell_type": "code",
      "source": [
        "def my_func(*lost):\n",
        "  print(\"pen\"+ lost[1])\n",
        "my_func(\"pot\", \"poll\", \"lot\")"
      ],
      "metadata": {
        "colab": {
          "base_uri": "https://localhost:8080/"
        },
        "id": "LRYftrNb2as9",
        "outputId": "59bb7033-3404-4c6e-d436-6df4a5da9c8c"
      },
      "execution_count": 5,
      "outputs": [
        {
          "output_type": "stream",
          "name": "stdout",
          "text": [
            "penpoll\n"
          ]
        }
      ]
    },
    {
      "cell_type": "markdown",
      "source": [
        "**KEYWORD ARGUMENTS:**\n",
        "\n",
        "\n",
        "1.  we can also give the arguments key= value syntax\n",
        "2.  the phrase keyword arguments are shortened as kwargs in python."
      ],
      "metadata": {
        "id": "ZnYoUQMD2mYi"
      }
    },
    {
      "cell_type": "code",
      "source": [
        "def my_name(toy1, toy2):\n",
        "  print(\"barbie\" + toy2)\n",
        "my_name(toy1 = \"cat\", toy2 =\"fire\")"
      ],
      "metadata": {
        "colab": {
          "base_uri": "https://localhost:8080/"
        },
        "id": "i3A8PACv2pOH",
        "outputId": "d6d0a604-f627-44d8-b54a-3bc21a6760f9"
      },
      "execution_count": 6,
      "outputs": [
        {
          "output_type": "stream",
          "name": "stdout",
          "text": [
            "barbiefire\n"
          ]
        }
      ]
    },
    {
      "cell_type": "markdown",
      "source": [
        "**ARBITARY KEYWORD ARGUMENTS**(**kwargs):\n",
        "\n",
        "\n",
        "-> if you dont know how many arguments to pass then add ** before the parameter."
      ],
      "metadata": {
        "id": "BA6ZPibQ2sKl"
      }
    },
    {
      "cell_type": "code",
      "source": [
        "def lolly_pop(**choco):\n",
        "  print(\"my favourite \"+ choco[\"chocolate\"])\n",
        "lolly_pop(biscuit=\"5  star\", chocolate=\"dairy milk\")"
      ],
      "metadata": {
        "colab": {
          "base_uri": "https://localhost:8080/"
        },
        "id": "kDIv2tdO2uEU",
        "outputId": "6d20d62e-4f2f-49fb-9132-b72efd8b87e5"
      },
      "execution_count": 7,
      "outputs": [
        {
          "output_type": "stream",
          "name": "stdout",
          "text": [
            "my favourite dairy milk\n"
          ]
        }
      ]
    },
    {
      "cell_type": "markdown",
      "source": [
        "**DEFAULT PARAMETER VALUE:**\n",
        "\n",
        "\n",
        "\n",
        "*   If we call any function without argument it uses the default value."
      ],
      "metadata": {
        "id": "_dzXVj1M2wXt"
      }
    },
    {
      "cell_type": "code",
      "source": [
        "def my_bro(young=\"is teju\"):\n",
        "  print(\"my lovely\"+young)\n",
        "my_bro(\"is handsome\")\n",
        "my_bro(\"is amazing\")\n",
        "my_bro()"
      ],
      "metadata": {
        "colab": {
          "base_uri": "https://localhost:8080/"
        },
        "id": "gWx4e2id2yXT",
        "outputId": "313f1dd9-70ff-461b-b26a-fed4ee9cca56"
      },
      "execution_count": 8,
      "outputs": [
        {
          "output_type": "stream",
          "name": "stdout",
          "text": [
            "my lovelyis handsome\n",
            "my lovelyis amazing\n",
            "my lovelyis teju\n"
          ]
        }
      ]
    },
    {
      "cell_type": "markdown",
      "source": [
        " **PASSING A LIST AS AN ARGUMENT**:\n",
        "\n",
        " You can send any data types of argument to a function (string, number, list, dictionary etc.), and it will be treated as the same data type inside the function\n",
        "\n",
        " eg: if you send a List as an argument, it will still be a List when it reaches the function:"
      ],
      "metadata": {
        "id": "ugyVkcs_20cS"
      }
    },
    {
      "cell_type": "code",
      "source": [
        "def my_function(food):\n",
        "  for x in food:\n",
        "    print(x)\n",
        "fruits = [\"apple\", \"banana\", \"cherry\"]\n",
        "my_function(fruits)"
      ],
      "metadata": {
        "colab": {
          "base_uri": "https://localhost:8080/"
        },
        "id": "Cb2UwMk722On",
        "outputId": "41c769f3-0642-45ba-bd90-067e96f2cd06"
      },
      "execution_count": 9,
      "outputs": [
        {
          "output_type": "stream",
          "name": "stdout",
          "text": [
            "apple\n",
            "banana\n",
            "cherry\n"
          ]
        }
      ]
    },
    {
      "cell_type": "markdown",
      "source": [
        "**The pass Statement**\n",
        "\n",
        "function definitions cannot be empty, but if you for some reason have a function definition with no content, put in the pass statement to avoid getting an error.\n"
      ],
      "metadata": {
        "id": "D2S4CXFV24R5"
      }
    },
    {
      "cell_type": "code",
      "source": [
        "def myfunction():\n",
        "  pass"
      ],
      "metadata": {
        "id": "da0LQSfH259M"
      },
      "execution_count": 10,
      "outputs": []
    },
    {
      "cell_type": "markdown",
      "source": [
        "**NAME SPACE**\n",
        "\n",
        "A namespace is a system that has a unique name for each and every object in Python.\n",
        "\n",
        "An object might be a variable or a method. Python itself maintains a namespace in the form of a Python dictionary.\n",
        "\n",
        "Types of namespace\n",
        "\n",
        "The built-in namespace encompasses the global namespace and the global namespace encompasses the local namespace.\n",
        "\n",
        "*  The built-in namespace encompasses the global namespace and the global namespace encompasses the local namespace."
      ],
      "metadata": {
        "id": "tOhGyuew282L"
      }
    },
    {
      "cell_type": "code",
      "source": [
        "var1 = 5\n",
        "def some_func():\n",
        "    var2 = 6\n",
        "    def some_inner_func():\n",
        "        var3 = 7"
      ],
      "metadata": {
        "id": "AwvZ20Xn2_KN"
      },
      "execution_count": 11,
      "outputs": []
    },
    {
      "cell_type": "markdown",
      "source": [
        "As shown in the following figure, the same object name can be present in multiple namespaces as isolation between the same name is maintained by their namespace."
      ],
      "metadata": {
        "id": "94sTjfkN3BD8"
      }
    },
    {
      "cell_type": "code",
      "source": [
        "count = 5\n",
        "def some_method():\n",
        "    global count\n",
        "    count = count + 1\n",
        "    print(count)\n",
        "some_method()"
      ],
      "metadata": {
        "colab": {
          "base_uri": "https://localhost:8080/"
        },
        "id": "PmshoJwd3DDm",
        "outputId": "fa7ecc48-8752-46eb-8350-f3e69d072be4"
      },
      "execution_count": 12,
      "outputs": [
        {
          "output_type": "stream",
          "name": "stdout",
          "text": [
            "6\n"
          ]
        }
      ]
    },
    {
      "cell_type": "markdown",
      "source": [
        "**SCOPE**\n",
        "\n",
        "*  Scope refers to the coding region from which a particular Python object is\n",
        "   accessible.\n",
        "\n",
        "*  the accessing has to be allowed by the scope of the object."
      ],
      "metadata": {
        "id": "amrPDK3R3FEQ"
      }
    },
    {
      "cell_type": "code",
      "source": [
        "def some_func():\n",
        "    print(\"Inside some_func\")\n",
        "    def some_inner_func():\n",
        "        var = 10\n",
        "        print(\"Inside inner function, value of var:\",var)\n",
        "some_func()"
      ],
      "metadata": {
        "id": "Y2jylcRI3ICe",
        "outputId": "c7ca3314-b7ee-4034-b51c-36652ce0d0f3",
        "colab": {
          "base_uri": "https://localhost:8080/"
        }
      },
      "execution_count": 13,
      "outputs": [
        {
          "output_type": "stream",
          "name": "stdout",
          "text": [
            "Inside some_func\n"
          ]
        }
      ]
    },
    {
      "cell_type": "markdown",
      "source": [
        "**FUNCTION CALL AND FUNCTION REFERENCE**\n",
        "\n",
        "**Pass by Reference and Pass by Value:**\n",
        "\n",
        "\n",
        "in Python every variable name is a reference. When we pass a variable to a function, a new reference to the object is created. Parameter passing in Python is the same as reference passing in Java."
      ],
      "metadata": {
        "id": "q74lyZUo3Ohd"
      }
    },
    {
      "cell_type": "code",
      "source": [
        "def myFun(x):\n",
        "    x[0] = 20\n",
        "list = [10, 11, 12, 13, 14, 15]\n",
        "myFun(list)\n",
        "print(list)"
      ],
      "metadata": {
        "colab": {
          "base_uri": "https://localhost:8080/"
        },
        "id": "WxtPfKry3QgB",
        "outputId": "83b69a99-6781-4a4e-da82-8dc316fc5e1c"
      },
      "execution_count": 14,
      "outputs": [
        {
          "output_type": "stream",
          "name": "stdout",
          "text": [
            "[20, 11, 12, 13, 14, 15]\n"
          ]
        }
      ]
    },
    {
      "cell_type": "code",
      "source": [
        "def myFun(x):\n",
        "    x = [20, 30, 40]\n",
        "list = [10, 11, 12, 13, 14, 15]\n",
        "myFun(list)\n",
        "print(list)"
      ],
      "metadata": {
        "colab": {
          "base_uri": "https://localhost:8080/"
        },
        "id": "PXyu_BQo3U4x",
        "outputId": "3baa9829-d1e1-4f95-d7fb-c00efd0dcc92"
      },
      "execution_count": 15,
      "outputs": [
        {
          "output_type": "stream",
          "name": "stdout",
          "text": [
            "[10, 11, 12, 13, 14, 15]\n"
          ]
        }
      ]
    }
  ]
}